{
 "cells": [
  {
   "cell_type": "markdown",
   "metadata": {},
   "source": [
    "Referencias:\n",
    "\n",
    "https://medium.com/emergent-future/simple-reinforcement-learning-with-tensorflow-part-0-q-learning-with-tables-and-neural-networks-d195264329d0"
   ]
  },
  {
   "cell_type": "code",
   "execution_count": 599,
   "metadata": {
    "collapsed": true
   },
   "outputs": [],
   "source": [
    "import gym\n",
    "import numpy as np\n",
    "from matplotlib import pyplot as plt\n",
    "import tensorflow as tf\n",
    "from IPython.display import Math"
   ]
  },
  {
   "cell_type": "code",
   "execution_count": 600,
   "metadata": {},
   "outputs": [
    {
     "name": "stdout",
     "output_type": "stream",
     "text": [
      "16\n",
      "4\n",
      "\n",
      "\u001b[41mS\u001b[0mFFF\n",
      "FHFH\n",
      "FFFH\n",
      "HFFG\n"
     ]
    }
   ],
   "source": [
    "env = gym.make('FrozenLake-v0')\n",
    "print(env.observation_space.n)\n",
    "print(env.action_space.n)\n",
    "env.render()"
   ]
  },
  {
   "cell_type": "code",
   "execution_count": 598,
   "metadata": {},
   "outputs": [
    {
     "ename": "Error",
     "evalue": "Cannot re-register id: FrozenLakeNotSlippery-v1",
     "output_type": "error",
     "traceback": [
      "\u001b[0;31m---------------------------------------------------------------------------\u001b[0m",
      "\u001b[0;31mError\u001b[0m                                     Traceback (most recent call last)",
      "\u001b[0;32m<ipython-input-598-5b1d5806e193>\u001b[0m in \u001b[0;36m<module>\u001b[0;34m()\u001b[0m\n\u001b[1;32m      4\u001b[0m     \u001b[0mentry_point\u001b[0m\u001b[0;34m=\u001b[0m\u001b[0;34m'gym.envs.toy_text:FrozenLakeEnv'\u001b[0m\u001b[0;34m,\u001b[0m\u001b[0;34m\u001b[0m\u001b[0m\n\u001b[1;32m      5\u001b[0m     \u001b[0mkwargs\u001b[0m\u001b[0;34m=\u001b[0m\u001b[0;34m{\u001b[0m\u001b[0;34m'map_name'\u001b[0m \u001b[0;34m:\u001b[0m \u001b[0;34m'4x4'\u001b[0m\u001b[0;34m,\u001b[0m \u001b[0;34m'is_slippery'\u001b[0m\u001b[0;34m:\u001b[0m \u001b[0;32mFalse\u001b[0m\u001b[0;34m}\u001b[0m\u001b[0;34m,\u001b[0m\u001b[0;34m\u001b[0m\u001b[0m\n\u001b[0;32m----> 6\u001b[0;31m     \u001b[0mmax_episode_steps\u001b[0m\u001b[0;34m=\u001b[0m\u001b[0;36m100\u001b[0m\u001b[0;34m,\u001b[0m\u001b[0;34m\u001b[0m\u001b[0m\n\u001b[0m\u001b[1;32m      7\u001b[0m )\n",
      "\u001b[0;32m~/anaconda3/envs/mllab/lib/python3.6/site-packages/gym/envs/registration.py\u001b[0m in \u001b[0;36mregister\u001b[0;34m(id, **kwargs)\u001b[0m\n\u001b[1;32m    159\u001b[0m \u001b[0;34m\u001b[0m\u001b[0m\n\u001b[1;32m    160\u001b[0m \u001b[0;32mdef\u001b[0m \u001b[0mregister\u001b[0m\u001b[0;34m(\u001b[0m\u001b[0mid\u001b[0m\u001b[0;34m,\u001b[0m \u001b[0;34m**\u001b[0m\u001b[0mkwargs\u001b[0m\u001b[0;34m)\u001b[0m\u001b[0;34m:\u001b[0m\u001b[0;34m\u001b[0m\u001b[0m\n\u001b[0;32m--> 161\u001b[0;31m     \u001b[0;32mreturn\u001b[0m \u001b[0mregistry\u001b[0m\u001b[0;34m.\u001b[0m\u001b[0mregister\u001b[0m\u001b[0;34m(\u001b[0m\u001b[0mid\u001b[0m\u001b[0;34m,\u001b[0m \u001b[0;34m**\u001b[0m\u001b[0mkwargs\u001b[0m\u001b[0;34m)\u001b[0m\u001b[0;34m\u001b[0m\u001b[0m\n\u001b[0m\u001b[1;32m    162\u001b[0m \u001b[0;34m\u001b[0m\u001b[0m\n\u001b[1;32m    163\u001b[0m \u001b[0;32mdef\u001b[0m \u001b[0mmake\u001b[0m\u001b[0;34m(\u001b[0m\u001b[0mid\u001b[0m\u001b[0;34m)\u001b[0m\u001b[0;34m:\u001b[0m\u001b[0;34m\u001b[0m\u001b[0m\n",
      "\u001b[0;32m~/anaconda3/envs/mllab/lib/python3.6/site-packages/gym/envs/registration.py\u001b[0m in \u001b[0;36mregister\u001b[0;34m(self, id, **kwargs)\u001b[0m\n\u001b[1;32m    152\u001b[0m     \u001b[0;32mdef\u001b[0m \u001b[0mregister\u001b[0m\u001b[0;34m(\u001b[0m\u001b[0mself\u001b[0m\u001b[0;34m,\u001b[0m \u001b[0mid\u001b[0m\u001b[0;34m,\u001b[0m \u001b[0;34m**\u001b[0m\u001b[0mkwargs\u001b[0m\u001b[0;34m)\u001b[0m\u001b[0;34m:\u001b[0m\u001b[0;34m\u001b[0m\u001b[0m\n\u001b[1;32m    153\u001b[0m         \u001b[0;32mif\u001b[0m \u001b[0mid\u001b[0m \u001b[0;32min\u001b[0m \u001b[0mself\u001b[0m\u001b[0;34m.\u001b[0m\u001b[0menv_specs\u001b[0m\u001b[0;34m:\u001b[0m\u001b[0;34m\u001b[0m\u001b[0m\n\u001b[0;32m--> 154\u001b[0;31m             \u001b[0;32mraise\u001b[0m \u001b[0merror\u001b[0m\u001b[0;34m.\u001b[0m\u001b[0mError\u001b[0m\u001b[0;34m(\u001b[0m\u001b[0;34m'Cannot re-register id: {}'\u001b[0m\u001b[0;34m.\u001b[0m\u001b[0mformat\u001b[0m\u001b[0;34m(\u001b[0m\u001b[0mid\u001b[0m\u001b[0;34m)\u001b[0m\u001b[0;34m)\u001b[0m\u001b[0;34m\u001b[0m\u001b[0m\n\u001b[0m\u001b[1;32m    155\u001b[0m         \u001b[0mself\u001b[0m\u001b[0;34m.\u001b[0m\u001b[0menv_specs\u001b[0m\u001b[0;34m[\u001b[0m\u001b[0mid\u001b[0m\u001b[0;34m]\u001b[0m \u001b[0;34m=\u001b[0m \u001b[0mEnvSpec\u001b[0m\u001b[0;34m(\u001b[0m\u001b[0mid\u001b[0m\u001b[0;34m,\u001b[0m \u001b[0;34m**\u001b[0m\u001b[0mkwargs\u001b[0m\u001b[0;34m)\u001b[0m\u001b[0;34m\u001b[0m\u001b[0m\n\u001b[1;32m    156\u001b[0m \u001b[0;34m\u001b[0m\u001b[0m\n",
      "\u001b[0;31mError\u001b[0m: Cannot re-register id: FrozenLakeNotSlippery-v1"
     ]
    }
   ],
   "source": [
    "from gym.envs.registration import register\n",
    "register(\n",
    "    id='FrozenLakeNotSlippery-v1',\n",
    "    entry_point='gym.envs.toy_text:FrozenLakeEnv',\n",
    "    kwargs={'map_name' : '4x4', 'is_slippery': False},\n",
    "    max_episode_steps=100,\n",
    ")"
   ]
  },
  {
   "cell_type": "code",
   "execution_count": 601,
   "metadata": {
    "collapsed": true
   },
   "outputs": [],
   "source": [
    "env_not_slippery = gym.make('FrozenLakeNotSlippery-v1')"
   ]
  },
  {
   "cell_type": "code",
   "execution_count": 602,
   "metadata": {
    "collapsed": true
   },
   "outputs": [],
   "source": [
    "# 0 -> Left\n",
    "# 1 -> Down\n",
    "# 2 -> Right\n",
    "# 3 -> Up\n",
    "holes = (np.array([1,1,2,3]),np.array([1,3,3,0]))\n",
    "controls = []\n",
    "controls.append('L')\n",
    "controls.append('D')\n",
    "controls.append('R')\n",
    "controls.append('U')\n",
    "controls = np.array(controls)\n",
    "\n",
    "action = {action:i for i, action in enumerate(controls)}"
   ]
  },
  {
   "cell_type": "code",
   "execution_count": 603,
   "metadata": {
    "collapsed": true
   },
   "outputs": [],
   "source": [
    "s0 = env.reset()"
   ]
  },
  {
   "cell_type": "code",
   "execution_count": 604,
   "metadata": {},
   "outputs": [
    {
     "name": "stdout",
     "output_type": "stream",
     "text": [
      "0 0.0 False {'prob': 0.3333333333333333}\n",
      "  (Left)\n",
      "\u001b[41mS\u001b[0mFFF\n",
      "FHFH\n",
      "FFFH\n",
      "HFFG\n"
     ]
    }
   ],
   "source": [
    "s1,r,d,prob = env.step(action['L'])\n",
    "print(s1,r,d,prob)\n",
    "env.render()"
   ]
  },
  {
   "cell_type": "code",
   "execution_count": 605,
   "metadata": {},
   "outputs": [
    {
     "data": {
      "text/plain": [
       "array([[ 0.07797069,  0.12409252, -0.02611613,  0.21545335]])"
      ]
     },
     "execution_count": 605,
     "metadata": {},
     "output_type": "execute_result"
    }
   ],
   "source": [
    "i = 10\n",
    "np.random.randn(1,env.action_space.n)*(1./(i+1))"
   ]
  },
  {
   "cell_type": "markdown",
   "metadata": {},
   "source": [
    "# Table"
   ]
  },
  {
   "cell_type": "code",
   "execution_count": 606,
   "metadata": {
    "collapsed": true
   },
   "outputs": [],
   "source": [
    "def estimate_Q(env, num_episodes = 500, lr = .8, y = .95, MA_window = 200, debug = False):\n",
    "    #lr -> Learning rate\n",
    "    #y -> Discounted reward coeficient\n",
    "    #num_episodes -> Iterations\n",
    "    #MA_window -> Moving Average window for averaging rewards\n",
    "    \n",
    "    #Initialize table with all zeros\n",
    "    Q = np.zeros([env.observation_space.n,env.action_space.n])\n",
    "    # Set learning parameters\n",
    "    #create lists to contain total rewards and steps per episode\n",
    "    #jList = []\n",
    "    rList = []\n",
    "\n",
    "    acummulated_average = []\n",
    "    \n",
    "    for i in range(num_episodes):\n",
    "        started = False\n",
    "        #Reset environment and get first new observation\n",
    "        s = env.reset()\n",
    "        rAll = 0\n",
    "        d = False\n",
    "        j = 0\n",
    "        #The Q-Table learning algorithm\n",
    "        while j < 99:\n",
    "            j+=1\n",
    "            #Choose an action by greedily (with noise) picking from Q table\n",
    "            a = np.argmax(Q[s,:] + np.random.randn(1,env.action_space.n)*(1./(i+1)))\n",
    "            #Get new state and reward from environment\n",
    "            s1,r,d,_ = env.step(a)\n",
    "            #Update Q-Table with new knowledge\n",
    "            # np.max(Q[s1,:]) -> Cual de todas las acciones tiene mayor valor cuando estoy en el esstado \n",
    "            # r + y*np.max(Q[s1,:]) -> Estimated discounted reward\n",
    "            Q[s,a] = Q[s,a] + lr*(r + y*np.max(Q[s1,:]) - Q[s,a])\n",
    "\n",
    "            rAll += r\n",
    "            if debug:\n",
    "                if (Q[s,a]>0) & (not started):\n",
    "                    print('episode:',i)\n",
    "                    started=True\n",
    "                if started:\n",
    "                    print('desde:',s,', hasta:',s1,', accion:',controls[a],', Q:', Q[s,a], ', reward:',r)\n",
    "                    if d:\n",
    "                        print('Finish!:', rAll)\n",
    "            s = s1\n",
    "            if d == True:\n",
    "                break\n",
    "        #jList.append(j)\n",
    "        rList.append(rAll)\n",
    "        acummulated_average.append(float(sum(rList[-MA_window:]))/MA_window)\n",
    "    return Q, acummulated_average, rList"
   ]
  },
  {
   "cell_type": "code",
   "execution_count": 607,
   "metadata": {
    "collapsed": true
   },
   "outputs": [],
   "source": [
    "def plot_policy(Q):\n",
    "    zero_Q = np.sum(Q, axis = 1).reshape(4,4) == 0\n",
    "    policy = np.array(controls)[np.argmax(Q, axis=1)].reshape(4,4)\n",
    "    policy[zero_Q] = 'X'\n",
    "    policy[holes] = 'H'\n",
    "    print(policy)\n",
    "    \n",
    "def show_results(Q, acummulated_average):\n",
    "    plt.plot(acummulated_average)\n",
    "    plt.xlabel('Episodes')\n",
    "    plt.ylabel('Wining Average')\n",
    "    plt.show()\n",
    "    display(Math('$Q(s_i,a_j)$'))\n",
    "    print(Q)\n",
    "    display(Math('$V(s_j) = max_{a_j} Q(s_i,a_j)$'))\n",
    "    print(np.max(Q, axis=1).reshape(4,4))\n",
    "    display(Math('$a_j = \\pi(s_i) = argmax_{a_j} Q(s_i,a_j)$'))\n",
    "    plot_policy(Q)"
   ]
  },
  {
   "cell_type": "markdown",
   "metadata": {},
   "source": [
    "## Non-Slippery\n",
    "### y=1, lr =1"
   ]
  },
  {
   "cell_type": "code",
   "execution_count": 623,
   "metadata": {},
   "outputs": [
    {
     "data": {
      "image/png": "[encoded data removed]",
      "text/plain": [
       "<matplotlib.figure.Figure at 0x11af154a8>"
      ]
     },
     "metadata": {},
     "output_type": "display_data"
    },
    {
     "data": {
      "text/latex": [
       "$$Q(s_i,a_j)$$"
      ],
      "text/plain": [
       "<IPython.core.display.Math object>"
      ]
     },
     "metadata": {},
     "output_type": "display_data"
    },
    {
     "name": "stdout",
     "output_type": "stream",
     "text": [
      "[[ 0.  1.  0.  0.]\n",
      " [ 0.  0.  0.  0.]\n",
      " [ 0.  0.  0.  0.]\n",
      " [ 0.  0.  0.  0.]\n",
      " [ 0.  1.  0.  0.]\n",
      " [ 0.  0.  0.  0.]\n",
      " [ 0.  0.  0.  0.]\n",
      " [ 0.  0.  0.  0.]\n",
      " [ 0.  0.  1.  0.]\n",
      " [ 0.  1.  0.  0.]\n",
      " [ 1.  0.  0.  0.]\n",
      " [ 0.  0.  0.  0.]\n",
      " [ 0.  0.  0.  0.]\n",
      " [ 0.  0.  1.  0.]\n",
      " [ 0.  0.  1.  0.]\n",
      " [ 0.  0.  0.  0.]]\n"
     ]
    },
    {
     "data": {
      "text/latex": [
       "$$V(s_j) = max_{a_j} Q(s_i,a_j)$$"
      ],
      "text/plain": [
       "<IPython.core.display.Math object>"
      ]
     },
     "metadata": {},
     "output_type": "display_data"
    },
    {
     "name": "stdout",
     "output_type": "stream",
     "text": [
      "[[ 1.  0.  0.  0.]\n",
      " [ 1.  0.  0.  0.]\n",
      " [ 1.  1.  1.  0.]\n",
      " [ 0.  1.  1.  0.]]\n"
     ]
    },
    {
     "data": {
      "text/latex": [
       "$$a_j = \\pi(s_i) = argmax_{a_j} Q(s_i,a_j)$$"
      ],
      "text/plain": [
       "<IPython.core.display.Math object>"
      ]
     },
     "metadata": {},
     "output_type": "display_data"
    },
    {
     "name": "stdout",
     "output_type": "stream",
     "text": [
      "[['D' 'X' 'X' 'X']\n",
      " ['D' 'H' 'X' 'H']\n",
      " ['R' 'D' 'L' 'H']\n",
      " ['H' 'R' 'R' 'X']]\n"
     ]
    }
   ],
   "source": [
    "num_episodes = 500\n",
    "Q_ns_table, acummulated_average_ns_table, rList = estimate_Q(env_not_slippery, \n",
    "                                                             num_episodes=num_episodes, \n",
    "                                                             y = 1, MA_window = 10, \n",
    "                                                             debug=False, \n",
    "                                                            lr = 1)\n",
    "show_results(Q_ns_table, acummulated_average_ns_table)"
   ]
  },
  {
   "cell_type": "markdown",
   "metadata": {},
   "source": [
    "### y=1, lr =0.01"
   ]
  },
  {
   "cell_type": "code",
   "execution_count": 631,
   "metadata": {},
   "outputs": [
    {
     "data": {
      "image/png": "[encoded data removed]",
      "text/plain": [
       "<matplotlib.figure.Figure at 0x11bcbf518>"
      ]
     },
     "metadata": {},
     "output_type": "display_data"
    },
    {
     "data": {
      "text/latex": [
       "$$Q(s_i,a_j)$$"
      ],
      "text/plain": [
       "<IPython.core.display.Math object>"
      ]
     },
     "metadata": {},
     "output_type": "display_data"
    },
    {
     "name": "stdout",
     "output_type": "stream",
     "text": [
      "[[  3.36555594e-07   9.17249485e-07   4.50598708e-07   3.12557249e-07]\n",
      " [  1.65952442e-07   0.00000000e+00   1.56113872e-06   1.98027720e-07]\n",
      " [  1.52605224e-07   9.29975823e-06   3.40070226e-08   9.95457337e-07]\n",
      " [  4.39566970e-07   0.00000000e+00   9.60438715e-09   1.51503439e-08]\n",
      " [  3.48969926e-07   2.70718827e-06   0.00000000e+00   1.72637863e-07]\n",
      " [  0.00000000e+00   0.00000000e+00   0.00000000e+00   0.00000000e+00]\n",
      " [  0.00000000e+00   1.87995343e-04   0.00000000e+00   1.10187148e-07]\n",
      " [  0.00000000e+00   0.00000000e+00   0.00000000e+00   0.00000000e+00]\n",
      " [  1.67109148e-06   0.00000000e+00   1.62336167e-05   2.04021636e-07]\n",
      " [  6.09314791e-07   1.23482898e-04   1.36818614e-04   0.00000000e+00]\n",
      " [  1.73516220e-06   6.60055517e-03   0.00000000e+00   1.90041443e-06]\n",
      " [  0.00000000e+00   0.00000000e+00   0.00000000e+00   0.00000000e+00]\n",
      " [  0.00000000e+00   0.00000000e+00   0.00000000e+00   0.00000000e+00]\n",
      " [  0.00000000e+00   2.80171046e-05   3.23820608e-03   2.82096323e-07]\n",
      " [  0.00000000e+00   0.00000000e+00   1.39941645e-01   0.00000000e+00]\n",
      " [  0.00000000e+00   0.00000000e+00   0.00000000e+00   0.00000000e+00]]\n"
     ]
    },
    {
     "data": {
      "text/latex": [
       "$$V(s_j) = max_{a_j} Q(s_i,a_j)$$"
      ],
      "text/plain": [
       "<IPython.core.display.Math object>"
      ]
     },
     "metadata": {},
     "output_type": "display_data"
    },
    {
     "name": "stdout",
     "output_type": "stream",
     "text": [
      "[[  9.17249485e-07   1.56113872e-06   9.29975823e-06   4.39566970e-07]\n",
      " [  2.70718827e-06   0.00000000e+00   1.87995343e-04   0.00000000e+00]\n",
      " [  1.62336167e-05   1.36818614e-04   6.60055517e-03   0.00000000e+00]\n",
      " [  0.00000000e+00   3.23820608e-03   1.39941645e-01   0.00000000e+00]]\n"
     ]
    },
    {
     "data": {
      "text/latex": [
       "$$a_j = \\pi(s_i) = argmax_{a_j} Q(s_i,a_j)$$"
      ],
      "text/plain": [
       "<IPython.core.display.Math object>"
      ]
     },
     "metadata": {},
     "output_type": "display_data"
    },
    {
     "name": "stdout",
     "output_type": "stream",
     "text": [
      "[['D' 'R' 'D' 'L']\n",
      " ['D' 'H' 'D' 'H']\n",
      " ['R' 'R' 'D' 'H']\n",
      " ['H' 'R' 'R' 'X']]\n"
     ]
    }
   ],
   "source": [
    "num_episodes = 500\n",
    "Q_ns_table, acummulated_average_ns_table, rList = estimate_Q(env_not_slippery, \n",
    "                                                             num_episodes=num_episodes, \n",
    "                                                             y = 1, MA_window = 10, \n",
    "                                                             debug=False, \n",
    "                                                            lr = 0.01)\n",
    "show_results(Q_ns_table, acummulated_average_ns_table)"
   ]
  },
  {
   "cell_type": "markdown",
   "metadata": {},
   "source": [
    "### y=0.9, lr = 0.8"
   ]
  },
  {
   "cell_type": "code",
   "execution_count": 457,
   "metadata": {},
   "outputs": [
    {
     "data": {
      "image/png": "[encoded data removed]",
      "text/plain": [
       "<matplotlib.figure.Figure at 0x11c054780>"
      ]
     },
     "metadata": {},
     "output_type": "display_data"
    },
    {
     "data": {
      "text/latex": [
       "$$Q(s_i,a_j)$$"
      ],
      "text/plain": [
       "<IPython.core.display.Math object>"
      ]
     },
     "metadata": {},
     "output_type": "display_data"
    },
    {
     "name": "stdout",
     "output_type": "stream",
     "text": [
      "[[ 0.       0.       0.59049  0.     ]\n",
      " [ 0.       0.       0.6561   0.     ]\n",
      " [ 0.       0.729    0.       0.     ]\n",
      " [ 0.       0.       0.       0.     ]\n",
      " [ 0.       0.       0.       0.     ]\n",
      " [ 0.       0.       0.       0.     ]\n",
      " [ 0.       0.81     0.       0.     ]\n",
      " [ 0.       0.       0.       0.     ]\n",
      " [ 0.       0.       0.       0.     ]\n",
      " [ 0.       0.       0.       0.     ]\n",
      " [ 0.       0.9      0.       0.     ]\n",
      " [ 0.       0.       0.       0.     ]\n",
      " [ 0.       0.       0.       0.     ]\n",
      " [ 0.       0.       0.       0.     ]\n",
      " [ 0.       0.       1.       0.     ]\n",
      " [ 0.       0.       0.       0.     ]]\n"
     ]
    },
    {
     "data": {
      "text/latex": [
       "$$V(s_j) = max_{a_j} Q(s_i,a_j)$$"
      ],
      "text/plain": [
       "<IPython.core.display.Math object>"
      ]
     },
     "metadata": {},
     "output_type": "display_data"
    },
    {
     "name": "stdout",
     "output_type": "stream",
     "text": [
      "[[ 0.59049  0.6561   0.729    0.     ]\n",
      " [ 0.       0.       0.81     0.     ]\n",
      " [ 0.       0.       0.9      0.     ]\n",
      " [ 0.       0.       1.       0.     ]]\n"
     ]
    },
    {
     "data": {
      "text/latex": [
       "$$a_j = \\pi(s_i)$$"
      ],
      "text/plain": [
       "<IPython.core.display.Math object>"
      ]
     },
     "metadata": {},
     "output_type": "display_data"
    },
    {
     "name": "stdout",
     "output_type": "stream",
     "text": [
      "[['R' 'R' 'D' 'X']\n",
      " ['X' 'H' 'D' 'H']\n",
      " ['X' 'X' 'D' 'H']\n",
      " ['H' 'X' 'R' 'X']]\n"
     ]
    }
   ],
   "source": [
    "# Si 'y' es bajo, los valores de Q tardan mas en pasar \n",
    "# np.random.randn(1,env.action_space.n)*(1./(i+1))\n",
    "num_episodes = 500\n",
    "Q_ns_table_1, acummulated_average_ns_table_1, _ = estimate_Q(env_not_slippery, \n",
    "                                           num_episodes=num_episodes, \n",
    "                                           y = 0.9, MA_window = 10, debug=False)\n",
    "show_results(Q_ns_table_1, acummulated_average_ns_table_1)"
   ]
  },
  {
   "cell_type": "markdown",
   "metadata": {},
   "source": [
    "### y=0.25"
   ]
  },
  {
   "cell_type": "code",
   "execution_count": 632,
   "metadata": {},
   "outputs": [
    {
     "data": {
      "image/png": "[encoded data removed]",
      "text/plain": [
       "<matplotlib.figure.Figure at 0x11c051208>"
      ]
     },
     "metadata": {},
     "output_type": "display_data"
    },
    {
     "data": {
      "text/latex": [
       "$$Q(s_i,a_j)$$"
      ],
      "text/plain": [
       "<IPython.core.display.Math object>"
      ]
     },
     "metadata": {},
     "output_type": "display_data"
    },
    {
     "name": "stdout",
     "output_type": "stream",
     "text": [
      "[[  1.13906250e-05   7.59375000e-05   7.59375000e-05   1.13906250e-05]\n",
      " [  1.13906250e-05   0.00000000e+00   5.06250000e-04   7.59375000e-05]\n",
      " [  7.59375000e-05   3.37500000e-03   7.59375000e-05   5.06250000e-04]\n",
      " [  5.06250000e-04   0.00000000e+00   7.59271434e-05   7.59374994e-05]\n",
      " [  7.59375000e-05   5.06250000e-04   0.00000000e+00   1.13906250e-05]\n",
      " [  0.00000000e+00   0.00000000e+00   0.00000000e+00   0.00000000e+00]\n",
      " [  0.00000000e+00   2.25000000e-02   0.00000000e+00   7.67497927e-08]\n",
      " [  0.00000000e+00   0.00000000e+00   0.00000000e+00   0.00000000e+00]\n",
      " [  5.06250000e-04   0.00000000e+00   3.37500000e-03   7.59375000e-05]\n",
      " [  0.00000000e+00   0.00000000e+00   2.25000000e-02   0.00000000e+00]\n",
      " [  0.00000000e+00   1.50000000e-01   0.00000000e+00   0.00000000e+00]\n",
      " [  0.00000000e+00   0.00000000e+00   0.00000000e+00   0.00000000e+00]\n",
      " [  0.00000000e+00   0.00000000e+00   0.00000000e+00   0.00000000e+00]\n",
      " [  0.00000000e+00   0.00000000e+00   0.00000000e+00   0.00000000e+00]\n",
      " [  0.00000000e+00   0.00000000e+00   1.00000000e+00   0.00000000e+00]\n",
      " [  0.00000000e+00   0.00000000e+00   0.00000000e+00   0.00000000e+00]]\n"
     ]
    },
    {
     "data": {
      "text/latex": [
       "$$V(s_j) = max_{a_j} Q(s_i,a_j)$$"
      ],
      "text/plain": [
       "<IPython.core.display.Math object>"
      ]
     },
     "metadata": {},
     "output_type": "display_data"
    },
    {
     "name": "stdout",
     "output_type": "stream",
     "text": [
      "[[  7.59375000e-05   5.06250000e-04   3.37500000e-03   5.06250000e-04]\n",
      " [  5.06250000e-04   0.00000000e+00   2.25000000e-02   0.00000000e+00]\n",
      " [  3.37500000e-03   2.25000000e-02   1.50000000e-01   0.00000000e+00]\n",
      " [  0.00000000e+00   0.00000000e+00   1.00000000e+00   0.00000000e+00]]\n"
     ]
    },
    {
     "data": {
      "text/latex": [
       "$$a_j = \\pi(s_i) = argmax_{a_j} Q(s_i,a_j)$$"
      ],
      "text/plain": [
       "<IPython.core.display.Math object>"
      ]
     },
     "metadata": {},
     "output_type": "display_data"
    },
    {
     "name": "stdout",
     "output_type": "stream",
     "text": [
      "[['D' 'R' 'D' 'L']\n",
      " ['D' 'H' 'D' 'H']\n",
      " ['R' 'R' 'D' 'H']\n",
      " ['H' 'X' 'R' 'X']]\n"
     ]
    }
   ],
   "source": [
    "# Si 'y' es bajo, los valores de Q tardan mas en pasar 'np.random.randn(1,env.action_space.n)*(1./(i+1))'\n",
    "# Por lo tanto se prueban mas opciones.\n",
    "# Se confia menos en las recompenzas futuras\n",
    "\n",
    "num_episodes = 8000\n",
    "Q_ns_table_2, acummulated_average_ns_table_2, _ = estimate_Q(env_not_slippery, \n",
    "                                           num_episodes=num_episodes, \n",
    "                                           y = 0.15, MA_window = 10, debug=False)\n",
    "show_results(Q_ns_table_2, acummulated_average_ns_table_2)"
   ]
  },
  {
   "cell_type": "markdown",
   "metadata": {},
   "source": [
    "# Slippery"
   ]
  },
  {
   "cell_type": "code",
   "execution_count": 459,
   "metadata": {},
   "outputs": [
    {
     "data": {
      "image/png": "[encoded data removed]",
      "text/plain": [
       "<matplotlib.figure.Figure at 0x11bc995f8>"
      ]
     },
     "metadata": {},
     "output_type": "display_data"
    },
    {
     "data": {
      "text/latex": [
       "$$Q(s_i,a_j)$$"
      ],
      "text/plain": [
       "<IPython.core.display.Math object>"
      ]
     },
     "metadata": {},
     "output_type": "display_data"
    },
    {
     "name": "stdout",
     "output_type": "stream",
     "text": [
      "[[  1.17218194e-01   3.18901346e-03   8.09736050e-03   4.26641774e-03]\n",
      " [  8.84161761e-04   5.32904078e-04   1.68440341e-03   9.60555880e-02]\n",
      " [  2.39098642e-03   6.30328206e-03   5.66372169e-03   1.48735061e-01]\n",
      " [  8.00064004e-04   1.36561370e-04   1.30803510e-03   6.02680514e-02]\n",
      " [  2.70094794e-01   1.60108582e-04   1.23790610e-04   3.64890551e-04]\n",
      " [  0.00000000e+00   0.00000000e+00   0.00000000e+00   0.00000000e+00]\n",
      " [  1.05560747e-01   4.89412977e-07   1.04506194e-05   2.62560851e-05]\n",
      " [  0.00000000e+00   0.00000000e+00   0.00000000e+00   0.00000000e+00]\n",
      " [  1.76737569e-04   4.77677968e-04   6.25502305e-03   1.99332281e-01]\n",
      " [  0.00000000e+00   6.94511367e-02   1.42101498e-03   7.09201223e-04]\n",
      " [  7.22460620e-01   1.28070679e-04   0.00000000e+00   0.00000000e+00]\n",
      " [  0.00000000e+00   0.00000000e+00   0.00000000e+00   0.00000000e+00]\n",
      " [  0.00000000e+00   0.00000000e+00   0.00000000e+00   0.00000000e+00]\n",
      " [  0.00000000e+00   0.00000000e+00   9.54128455e-02   0.00000000e+00]\n",
      " [  0.00000000e+00   0.00000000e+00   0.00000000e+00   9.51135610e-01]\n",
      " [  0.00000000e+00   0.00000000e+00   0.00000000e+00   0.00000000e+00]]\n"
     ]
    },
    {
     "data": {
      "text/latex": [
       "$$V(s_j) = max_{a_j} Q(s_i,a_j)$$"
      ],
      "text/plain": [
       "<IPython.core.display.Math object>"
      ]
     },
     "metadata": {},
     "output_type": "display_data"
    },
    {
     "name": "stdout",
     "output_type": "stream",
     "text": [
      "[[ 0.11721819  0.09605559  0.14873506  0.06026805]\n",
      " [ 0.27009479  0.          0.10556075  0.        ]\n",
      " [ 0.19933228  0.06945114  0.72246062  0.        ]\n",
      " [ 0.          0.09541285  0.95113561  0.        ]]\n"
     ]
    },
    {
     "data": {
      "text/latex": [
       "$$a_j = \\pi(s_i)$$"
      ],
      "text/plain": [
       "<IPython.core.display.Math object>"
      ]
     },
     "metadata": {},
     "output_type": "display_data"
    },
    {
     "name": "stdout",
     "output_type": "stream",
     "text": [
      "[['L' 'U' 'U' 'U']\n",
      " ['L' 'H' 'L' 'H']\n",
      " ['U' 'D' 'L' 'H']\n",
      " ['H' 'R' 'U' 'X']]\n"
     ]
    }
   ],
   "source": [
    "# Si y es bajo, los valores de Q tardan mas en pasar \n",
    "# np.random.randn(1,env.action_space.n)*(1./(i+1))\n",
    "num_episodes = 4000\n",
    "Q_s_table, acummulated_average_s_table, _ = estimate_Q(env, \n",
    "                                           num_episodes=num_episodes, \n",
    "                                           y = 0.95, MA_window = 200, debug=False)\n",
    "show_results(Q_s_table, acummulated_average_s_table)"
   ]
  },
  {
   "cell_type": "code",
   "execution_count": 460,
   "metadata": {},
   "outputs": [
    {
     "data": {
      "image/png": "[encoded data removed]",
      "text/plain": [
       "<matplotlib.figure.Figure at 0x11c054a20>"
      ]
     },
     "metadata": {},
     "output_type": "display_data"
    },
    {
     "data": {
      "text/latex": [
       "$$Q(s_i,a_j)$$"
      ],
      "text/plain": [
       "<IPython.core.display.Math object>"
      ]
     },
     "metadata": {},
     "output_type": "display_data"
    },
    {
     "name": "stdout",
     "output_type": "stream",
     "text": [
      "[[  9.75707846e-05   1.22093874e-04   4.62771964e-03   8.73916321e-05]\n",
      " [  5.87868914e-06   1.33586659e-05   1.61587484e-05   2.35508276e-04]\n",
      " [  8.17143292e-05   6.07778537e-05   3.60396358e-03   1.10985477e-04]\n",
      " [  2.27113049e-07   3.96196152e-06   1.74864853e-06   8.03038399e-05]\n",
      " [  1.55032192e-02   7.72628368e-05   1.09276609e-05   1.21836210e-05]\n",
      " [  0.00000000e+00   0.00000000e+00   0.00000000e+00   0.00000000e+00]\n",
      " [  3.79958323e-06   6.48628392e-05   4.21039467e-01   1.74594383e-07]\n",
      " [  0.00000000e+00   0.00000000e+00   0.00000000e+00   0.00000000e+00]\n",
      " [  1.03071878e-05   6.00876022e-07   7.45083671e-05   7.18633073e-02]\n",
      " [  8.34940159e-05   4.41248129e-01   2.78190537e-05   9.82507071e-05]\n",
      " [  1.58031878e-01   1.43573092e-06   1.65943379e-05   5.25386735e-05]\n",
      " [  0.00000000e+00   0.00000000e+00   0.00000000e+00   0.00000000e+00]\n",
      " [  0.00000000e+00   0.00000000e+00   0.00000000e+00   0.00000000e+00]\n",
      " [  1.29845126e-04   7.39735273e-04   4.39953450e-01   0.00000000e+00]\n",
      " [  0.00000000e+00   9.01227525e-01   0.00000000e+00   5.70161227e-04]\n",
      " [  0.00000000e+00   0.00000000e+00   0.00000000e+00   0.00000000e+00]]\n"
     ]
    },
    {
     "data": {
      "text/latex": [
       "$$V(s_j) = max_{a_j} Q(s_i,a_j)$$"
      ],
      "text/plain": [
       "<IPython.core.display.Math object>"
      ]
     },
     "metadata": {},
     "output_type": "display_data"
    },
    {
     "name": "stdout",
     "output_type": "stream",
     "text": [
      "[[  4.62771964e-03   2.35508276e-04   3.60396358e-03   8.03038399e-05]\n",
      " [  1.55032192e-02   0.00000000e+00   4.21039467e-01   0.00000000e+00]\n",
      " [  7.18633073e-02   4.41248129e-01   1.58031878e-01   0.00000000e+00]\n",
      " [  0.00000000e+00   4.39953450e-01   9.01227525e-01   0.00000000e+00]]\n"
     ]
    },
    {
     "data": {
      "text/latex": [
       "$$a_j = \\pi(s_i)$$"
      ],
      "text/plain": [
       "<IPython.core.display.Math object>"
      ]
     },
     "metadata": {},
     "output_type": "display_data"
    },
    {
     "name": "stdout",
     "output_type": "stream",
     "text": [
      "[['R' 'U' 'R' 'U']\n",
      " ['L' 'H' 'R' 'H']\n",
      " ['U' 'D' 'L' 'H']\n",
      " ['H' 'R' 'D' 'X']]\n"
     ]
    }
   ],
   "source": [
    "num_episodes = 20000\n",
    "Q_s_table_1, acummulated_average_s_table_1, _ = estimate_Q(env, \n",
    "                                           num_episodes=num_episodes, \n",
    "                                           y = 0.8, MA_window = 200, debug=False)\n",
    "show_results(Q_s_table_1, acummulated_average_s_table_1)"
   ]
  },
  {
   "cell_type": "markdown",
   "metadata": {},
   "source": [
    "# Neural Network Q aproximation"
   ]
  },
  {
   "cell_type": "markdown",
   "metadata": {},
   "source": [
    "- Entrada: ont-hot 1x16\n",
    "- Capa densa con 14x4 pasos\n",
    "- Salida: L, D, R, U"
   ]
  },
  {
   "cell_type": "markdown",
   "metadata": {},
   "source": [
    "Algoritmo:\n",
    "- Inicializo pesos de la red neuronal aleatoriamente\n",
    "- Ingreso con el estado inicial $s_0$\n",
    "- Me devuelve un listado de posibles acciones con sus pesos: $q(s_0, a)$\n",
    "- Elijo la accion mas probable a_0 (Con un grado de aleatoriedad que va disminuyendo con cada episodio) y guardo el valor $maxQ_0$ (valor de Q para esa accion)\n",
    "- Ejecuto la accion y tengo un nuevo estado $S_1$ con un posible reward $r_1$\n",
    "- Ingreso a la RNN con ese nuevo estado, obtengo $q(s_1,a)$ y me quedo con el valor mayor ($maxQ_1$)\n",
    "- Uso $maxQ_1$ para predecir el anterior $maxQ_0$: $r_1+\\gamma maxQ_1$\n",
    "- Es decir, le pido que haga un update de los pesos con entrada $s_0$ y salida $maxQ_0$ (Target, valor anotado)\n",
    "- Repito esto hasta que termina el juego (suponiendo que termina)\n",
    "- repito esto tantos episodios como sean necesarios"
   ]
  },
  {
   "cell_type": "code",
   "execution_count": 571,
   "metadata": {
    "collapsed": true
   },
   "outputs": [],
   "source": [
    "def estimate_NN_Q(env, num_episodes = 4000, y = .99, MA_window = 400, lr=0.1, random_bias=10, inv_sigma = 50):\n",
    "    tf.reset_default_graph()\n",
    "    #These lines establish the feed-forward part of the network used to choose actions\n",
    "    inputs1 = tf.placeholder(shape=[1,16],dtype=tf.float32)\n",
    "    W = tf.Variable(tf.random_uniform([16,4],0,0.01))\n",
    "    Qout = tf.matmul(inputs1,W)\n",
    "    predict = tf.argmax(Qout,1)\n",
    "\n",
    "    #Below we obtain the loss by taking the sum of squares difference between the target and prediction Q values.\n",
    "    nextQ = tf.placeholder(shape=[1,4],dtype=tf.float32)\n",
    "    loss = tf.reduce_sum(tf.square(nextQ - Qout))\n",
    "    #trainer = tf.train.GradientDescentOptimizer(learning_rate=lr)\n",
    "    trainer = tf.train.AdamOptimizer()\n",
    "    updateModel = trainer.minimize(loss)\n",
    "    init = tf.global_variables_initializer()\n",
    "    acummulated_average = []\n",
    "    #create lists to contain total rewards and steps per episode\n",
    "    jList = []\n",
    "    rList = []\n",
    "    with tf.Session() as sess:\n",
    "        sess.run(init)\n",
    "        for i in range(num_episodes):\n",
    "            #Reset environment and get first new observation\n",
    "            s = env.reset()\n",
    "            rAll = 0\n",
    "            d = False\n",
    "            j = 0\n",
    "            #The Q-Network\n",
    "            while j < 99:\n",
    "                j+=1\n",
    "                #Choose an action by greedily (with e chance of random action) from the Q-network\n",
    "                a,allQ = sess.run([predict,Qout],feed_dict={inputs1:np.identity(16)[s:s+1]})\n",
    "                #a no lo estoy usando. Solo uso allQ que es la Q para el estado s de todas las acciones posibles\n",
    "\n",
    "                a = np.argmax(allQ + np.random.randn(1,env.action_space.n)*(1./((i/inv_sigma) + random_bias)))\n",
    "                a = np.array([a])\n",
    "                #en a esta la proxima accion\n",
    "                #Get new state and reward from environment\n",
    "                s1,r,d,_ = env.step(a[0])\n",
    "                #Obtain the Q' values by feeding the new state through our network\n",
    "                Q1 = sess.run(Qout,feed_dict={inputs1:np.identity(16)[s1:s1+1]})\n",
    "                #Obtain maxQ' and set our target value for chosen action.\n",
    "                maxQ1 = np.max(Q1)\n",
    "                targetQ = allQ\n",
    "                targetQ[0,a[0]] = r + y*maxQ1\n",
    "                #Train our network using target and predicted Q values\n",
    "                _,W1 = sess.run([updateModel,W],feed_dict={inputs1:np.identity(16)[s:s+1],nextQ:targetQ})\n",
    "                rAll += r\n",
    "                s = s1\n",
    "                if d == True:\n",
    "                    break\n",
    "            jList.append(j)\n",
    "            rList.append(rAll)\n",
    "            acummulated_average.append(float(sum(rList[-MA_window:]))/MA_window)\n",
    "        Q = []\n",
    "        for i in range(16):\n",
    "            a,allQ = sess.run([predict,Qout],feed_dict={inputs1:np.identity(16)[i:i+1]})\n",
    "            Q.append(allQ[0])\n",
    "        Q = np.array(Q)\n",
    "    return Q, acummulated_average, rList"
   ]
  },
  {
   "cell_type": "markdown",
   "metadata": {},
   "source": [
    "# Slippery"
   ]
  },
  {
   "cell_type": "code",
   "execution_count": 547,
   "metadata": {},
   "outputs": [
    {
     "data": {
      "image/png": "[encoded data removed]",
      "text/plain": [
       "<matplotlib.figure.Figure at 0x1108878d0>"
      ]
     },
     "metadata": {},
     "output_type": "display_data"
    },
    {
     "data": {
      "text/latex": [
       "$$Q(s_i,a_j)$$"
      ],
      "text/plain": [
       "<IPython.core.display.Math object>"
      ]
     },
     "metadata": {},
     "output_type": "display_data"
    },
    {
     "name": "stdout",
     "output_type": "stream",
     "text": [
      "[[  5.23122132e-01   1.34310901e-01   2.17843533e-01   4.80615497e-01]\n",
      " [  1.28176123e-01   1.63677167e-02   1.55931525e-02   4.86903340e-01]\n",
      " [  6.44522235e-02   1.23475410e-01   5.62990233e-02   4.50413525e-01]\n",
      " [  3.00608110e-02   7.64504448e-03   2.78969016e-02   4.25047845e-01]\n",
      " [  5.49690843e-01   3.69653180e-02   2.10792925e-02   3.40822861e-02]\n",
      " [  2.71950359e-03   3.68393050e-03   6.65705325e-03   2.08523270e-04]\n",
      " [  1.01719974e-02   4.08865698e-02   3.31176251e-01  -7.67790247e-03]\n",
      " [  7.15300301e-03   2.05322503e-04   4.19854745e-03   7.71735283e-03]\n",
      " [  2.25963797e-02   2.28811074e-02   6.81121498e-02   5.86594343e-01]\n",
      " [  1.47740198e-02   6.20261133e-01   9.38512012e-03   1.82526205e-02]\n",
      " [  5.62005818e-01   9.66963358e-04   8.29931814e-03   3.48402262e-02]\n",
      " [  5.26902080e-03   4.31954628e-03   6.81273546e-03   3.97503469e-03]\n",
      " [  4.09933552e-03   6.23953203e-03   1.84317585e-03   4.48188419e-03]\n",
      " [  9.07629321e-04  -5.83852315e-03   7.42117465e-01   3.90845202e-02]\n",
      " [  6.14855886e-02   8.64333630e-01   2.47853827e-02   9.39494348e-04]\n",
      " [  2.46877060e-03   6.95576658e-04   6.18159026e-03   5.38937096e-03]]\n"
     ]
    },
    {
     "data": {
      "text/latex": [
       "$$V(s_j) = max_{a_j} Q(s_i,a_j)$$"
      ],
      "text/plain": [
       "<IPython.core.display.Math object>"
      ]
     },
     "metadata": {},
     "output_type": "display_data"
    },
    {
     "name": "stdout",
     "output_type": "stream",
     "text": [
      "[[ 0.52312213  0.48690334  0.45041353  0.42504784]\n",
      " [ 0.54969084  0.00665705  0.33117625  0.00771735]\n",
      " [ 0.58659434  0.62026113  0.56200582  0.00681274]\n",
      " [ 0.00623953  0.74211746  0.86433363  0.00618159]]\n"
     ]
    },
    {
     "data": {
      "text/latex": [
       "$$a_j = \\pi(s_i) = argmax_{a_j} Q(s_i,a_j)$$"
      ],
      "text/plain": [
       "<IPython.core.display.Math object>"
      ]
     },
     "metadata": {},
     "output_type": "display_data"
    },
    {
     "name": "stdout",
     "output_type": "stream",
     "text": [
      "[['L' 'U' 'U' 'U']\n",
      " ['L' 'H' 'R' 'H']\n",
      " ['U' 'D' 'L' 'H']\n",
      " ['H' 'R' 'D' 'R']]\n"
     ]
    }
   ],
   "source": [
    "# notar aca el random_bias = 50. \n",
    "Q_nn_s, acummulated_average_nn_s, _ = estimate_NN_Q(env, num_episodes = 2000, \n",
    "                                                    y = .99, \n",
    "                                                    MA_window = 200, \n",
    "                                                    lr=0.05,\n",
    "                                                   random_bias=50)\n",
    "show_results(Q_nn_s, acummulated_average_nn_s)"
   ]
  },
  {
   "cell_type": "code",
   "execution_count": 589,
   "metadata": {},
   "outputs": [
    {
     "data": {
      "image/png": "[encoded data removed]",
      "text/plain": [
       "<matplotlib.figure.Figure at 0x11bcbfba8>"
      ]
     },
     "metadata": {},
     "output_type": "display_data"
    },
    {
     "data": {
      "text/latex": [
       "$$Q(s_i,a_j)$$"
      ],
      "text/plain": [
       "<IPython.core.display.Math object>"
      ]
     },
     "metadata": {},
     "output_type": "display_data"
    },
    {
     "name": "stdout",
     "output_type": "stream",
     "text": [
      "[[  5.00415489e-02   2.04079971e-02   1.21239247e-02   1.59278009e-02]\n",
      " [  7.68215745e-04   2.50725672e-02  -2.49153320e-02  -7.35264504e-03]\n",
      " [ -7.71684386e-03   5.60887530e-02  -2.55913648e-04  -2.43232548e-02]\n",
      " [ -2.12381035e-02  -1.55753493e-02  -1.54144885e-02   4.78096977e-02]\n",
      " [  6.46848604e-02   1.59747358e-02   1.12502734e-04  -2.44090334e-03]\n",
      " [  1.48645637e-03   3.92428134e-03   7.75015680e-03   6.07650029e-03]\n",
      " [ -8.80375598e-03   7.27038272e-03   9.21690464e-02   3.59111303e-03]\n",
      " [  8.07489175e-03   7.17069721e-03   6.68151025e-03   4.51685768e-03]\n",
      " [  2.92449025e-03   2.07376145e-02   1.93553958e-02   9.40087140e-02]\n",
      " [ -4.49203607e-03   1.69852391e-01   1.76093858e-02   2.56772637e-02]\n",
      " [  2.27978006e-01   8.91405344e-03   1.48527119e-02  -6.51614182e-03]\n",
      " [  2.61981250e-03   3.62755521e-03   7.31496559e-03   3.77579080e-03]\n",
      " [  2.72909156e-03   1.47045136e-03   6.50773756e-03   3.15464125e-03]\n",
      " [  1.80861112e-02   2.44701847e-01  -3.77494539e-03  -2.97444087e-04]\n",
      " [  2.30797287e-03   4.45534242e-03   5.47569335e-01  -8.03721510e-03]\n",
      " [  1.01314543e-03   7.90789444e-03   6.72410615e-03   1.66687963e-03]]\n"
     ]
    },
    {
     "data": {
      "text/latex": [
       "$$V(s_j) = max_{a_j} Q(s_i,a_j)$$"
      ],
      "text/plain": [
       "<IPython.core.display.Math object>"
      ]
     },
     "metadata": {},
     "output_type": "display_data"
    },
    {
     "name": "stdout",
     "output_type": "stream",
     "text": [
      "[[ 0.05004155  0.02507257  0.05608875  0.0478097 ]\n",
      " [ 0.06468486  0.00775016  0.09216905  0.00807489]\n",
      " [ 0.09400871  0.16985239  0.22797801  0.00731497]\n",
      " [ 0.00650774  0.24470185  0.54756933  0.00790789]]\n"
     ]
    },
    {
     "data": {
      "text/latex": [
       "$$a_j = \\pi(s_i) = argmax_{a_j} Q(s_i,a_j)$$"
      ],
      "text/plain": [
       "<IPython.core.display.Math object>"
      ]
     },
     "metadata": {},
     "output_type": "display_data"
    },
    {
     "name": "stdout",
     "output_type": "stream",
     "text": [
      "[['L' 'D' 'D' 'U']\n",
      " ['L' 'H' 'R' 'H']\n",
      " ['U' 'D' 'L' 'H']\n",
      " ['H' 'D' 'R' 'D']]\n"
     ]
    }
   ],
   "source": [
    "# notar aca el random_bias = 50. \n",
    "Q_nn_s, acummulated_average_nn_s, _ = estimate_NN_Q(env, num_episodes = 16000, \n",
    "                                                    y = .9, \n",
    "                                                    MA_window = 200, \n",
    "                                                    lr=0.05,\n",
    "                                                   random_bias=100,\n",
    "                                                   inv_sigma = 30)\n",
    "show_results(Q_nn_s, acummulated_average_nn_s)"
   ]
  },
  {
   "cell_type": "markdown",
   "metadata": {},
   "source": [
    "# Non-slippery"
   ]
  },
  {
   "cell_type": "code",
   "execution_count": 541,
   "metadata": {},
   "outputs": [
    {
     "data": {
      "image/png": "[encoded data removed]",
      "text/plain": [
       "<matplotlib.figure.Figure at 0x11be8dc18>"
      ]
     },
     "metadata": {},
     "output_type": "display_data"
    },
    {
     "data": {
      "text/latex": [
       "$$Q(s_i,a_j)$$"
      ],
      "text/plain": [
       "<IPython.core.display.Math object>"
      ]
     },
     "metadata": {},
     "output_type": "display_data"
    },
    {
     "name": "stdout",
     "output_type": "stream",
     "text": [
      "[[  9.52819288e-01   4.37318921e-01   9.59670126e-01   9.50073481e-01]\n",
      " [  9.50070441e-01   2.80972868e-02   9.69363749e-01   9.59670126e-01]\n",
      " [  7.04075873e-01   9.79155302e-01   5.29673815e-01   9.69302773e-01]\n",
      " [  5.73419213e-01  -4.24969150e-03   3.43944699e-01   4.51859951e-01]\n",
      " [  3.87622356e-01   3.66403431e-01   5.02041599e-04   4.80027735e-01]\n",
      " [  8.80080182e-03   4.90567181e-03   8.25699419e-03   7.83471204e-03]\n",
      " [  1.78513881e-02   9.89045739e-01  -5.54831792e-03   9.68908250e-01]\n",
      " [  6.31559594e-03   4.88144485e-03   2.16512801e-03   2.52453680e-03]\n",
      " [  3.56134295e-01  -7.89505802e-03   3.80663723e-01   3.45896035e-01]\n",
      " [  3.14528197e-01   7.03983903e-02   4.13149446e-01  -3.44761857e-03]\n",
      " [  2.45116547e-01   9.99036014e-01   2.28203535e-02   4.56089348e-01]\n",
      " [  5.55860251e-03   8.95954017e-03   9.88973584e-03   1.21348503e-03]\n",
      " [  3.14963097e-03   4.01825644e-03   2.49934779e-03   1.58255931e-03]\n",
      " [ -1.92337595e-02   4.94731739e-02   1.20856807e-01   3.79306972e-02]\n",
      " [  5.73850535e-02   1.26202136e-01   1.00912726e+00   5.78447506e-02]\n",
      " [  3.75229109e-04   9.21982247e-03   6.77859411e-03   6.73515676e-03]]\n"
     ]
    },
    {
     "data": {
      "text/latex": [
       "$$V(s_j) = max_{a_j} Q(s_i,a_j)$$"
      ],
      "text/plain": [
       "<IPython.core.display.Math object>"
      ]
     },
     "metadata": {},
     "output_type": "display_data"
    },
    {
     "name": "stdout",
     "output_type": "stream",
     "text": [
      "[[ 0.95967013  0.96936375  0.9791553   0.57341921]\n",
      " [ 0.48002774  0.0088008   0.98904574  0.0063156 ]\n",
      " [ 0.38066372  0.41314945  0.99903601  0.00988974]\n",
      " [ 0.00401826  0.12085681  1.00912726  0.00921982]]\n"
     ]
    },
    {
     "data": {
      "text/latex": [
       "$$a_j = \\pi(s_i)$$"
      ],
      "text/plain": [
       "<IPython.core.display.Math object>"
      ]
     },
     "metadata": {},
     "output_type": "display_data"
    },
    {
     "name": "stdout",
     "output_type": "stream",
     "text": [
      "[['R' 'R' 'D' 'L']\n",
      " ['U' 'H' 'D' 'H']\n",
      " ['R' 'R' 'D' 'H']\n",
      " ['H' 'R' 'R' 'D']]\n"
     ]
    }
   ],
   "source": [
    "Q_nn_ns, acummulated_average_nn_ns, _ = estimate_NN_Q(env_not_slippery, \n",
    "                                                      num_episodes = 1000, \n",
    "                                                      y = .99,\n",
    "                                                      MA_window = 200, \n",
    "                                                      lr=0.1)\n",
    "show_results(Q_nn_ns, acummulated_average_nn_ns)"
   ]
  },
  {
   "cell_type": "code",
   "execution_count": 568,
   "metadata": {},
   "outputs": [
    {
     "data": {
      "image/png": "[encoded data removed]",
      "text/plain": [
       "<matplotlib.figure.Figure at 0x11c26dda0>"
      ]
     },
     "metadata": {},
     "output_type": "display_data"
    },
    {
     "data": {
      "text/latex": [
       "$$Q(s_i,a_j)$$"
      ],
      "text/plain": [
       "<IPython.core.display.Math object>"
      ]
     },
     "metadata": {},
     "output_type": "display_data"
    },
    {
     "name": "stdout",
     "output_type": "stream",
     "text": [
      "[[ -1.87940197e-03   3.13825905e-02   3.11674997e-02   2.57134996e-03]\n",
      " [ -2.00746884e-03  -6.59644371e-03   6.27862886e-02   5.61637525e-03]\n",
      " [ -9.34842601e-03   1.25419974e-01  -3.93773749e-04  -1.94509551e-02]\n",
      " [ -1.05848527e-02   7.59180123e-03  -9.52114072e-03  -1.44922081e-02]\n",
      " [ -1.38244526e-02   6.27349317e-02   3.10520525e-03  -2.87720072e-03]\n",
      " [  1.21973874e-03   9.32347757e-05   8.25640652e-03   3.35931763e-05]\n",
      " [ -2.85885902e-03   2.50994802e-01   3.57388612e-03  -5.07893227e-03]\n",
      " [  8.10754392e-03   1.92164653e-03   4.37934510e-03   2.15274934e-03]\n",
      " [  5.40488516e-04   8.94623250e-03   1.25468805e-01  -8.34850781e-03]\n",
      " [ -9.11110919e-03  -1.57039743e-02   2.50943780e-01  -4.83377418e-03]\n",
      " [  3.23303812e-03   5.01887858e-01   5.50313201e-03  -4.11101058e-03]\n",
      " [  6.94081746e-03   5.23427362e-03   2.52863765e-03   5.45987720e-03]\n",
      " [  8.28193780e-03   7.08950742e-04   3.42454552e-03   9.35504213e-03]\n",
      " [ -1.13042966e-02  -1.25945294e-02   2.29903646e-02  -6.73942873e-03]\n",
      " [ -1.29902344e-02   6.40923856e-03   1.00377584e+00   8.84090923e-03]\n",
      " [  6.73393579e-03   2.55424483e-03   7.61026610e-03   3.78026487e-03]]\n"
     ]
    },
    {
     "data": {
      "text/latex": [
       "$$V(s_j) = max_{a_j} Q(s_i,a_j)$$"
      ],
      "text/plain": [
       "<IPython.core.display.Math object>"
      ]
     },
     "metadata": {},
     "output_type": "display_data"
    },
    {
     "name": "stdout",
     "output_type": "stream",
     "text": [
      "[[ 0.03138259  0.06278629  0.12541997  0.0075918 ]\n",
      " [ 0.06273493  0.00825641  0.2509948   0.00810754]\n",
      " [ 0.12546881  0.25094378  0.50188786  0.00694082]\n",
      " [ 0.00935504  0.02299036  1.00377584  0.00761027]]\n"
     ]
    },
    {
     "data": {
      "text/latex": [
       "$$a_j = \\pi(s_i) = argmax_{a_j} Q(s_i,a_j)$$"
      ],
      "text/plain": [
       "<IPython.core.display.Math object>"
      ]
     },
     "metadata": {},
     "output_type": "display_data"
    },
    {
     "name": "stdout",
     "output_type": "stream",
     "text": [
      "[['D' 'R' 'D' 'D']\n",
      " ['D' 'H' 'D' 'H']\n",
      " ['R' 'R' 'D' 'H']\n",
      " ['H' 'R' 'R' 'R']]\n"
     ]
    }
   ],
   "source": [
    "Q_nn_ns, acummulated_average_nn_ns, _ = estimate_NN_Q(env_not_slippery, \n",
    "                                                      num_episodes = 1000, \n",
    "                                                      y = .5,\n",
    "                                                      MA_window = 200, \n",
    "                                                      lr=0.1,\n",
    "                                                     random_bias=200)\n",
    "show_results(Q_nn_ns, acummulated_average_nn_ns)"
   ]
  },
  {
   "cell_type": "code",
   "execution_count": null,
   "metadata": {
    "collapsed": true
   },
   "outputs": [],
   "source": []
  }
 ],
 "metadata": {
  "kernelspec": {
   "display_name": "Python 3",
   "language": "python",
   "name": "python3"
  },
  "language_info": {
   "codemirror_mode": {
    "name": "ipython",
    "version": 3
   },
   "file_extension": ".py",
   "mimetype": "text/x-python",
   "name": "python",
   "nbconvert_exporter": "python",
   "pygments_lexer": "ipython3",
   "version": "3.6.2"
  },
  "toc": {
   "nav_menu": {},
   "number_sections": true,
   "sideBar": true,
   "skip_h1_title": true,
   "toc_cell": false,
   "toc_position": {},
   "toc_section_display": "block",
   "toc_window_display": false
  }
 },
 "nbformat": 4,
 "nbformat_minor": 2
}
