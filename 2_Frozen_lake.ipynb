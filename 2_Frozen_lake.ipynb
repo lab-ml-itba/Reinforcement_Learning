{
 "cells": [
  {
   "cell_type": "markdown",
   "metadata": {},
   "source": [
    "Referencias:\n",
    "\n",
    "https://medium.com/emergent-future/simple-reinforcement-learning-with-tensorflow-part-0-q-learning-with-tables-and-neural-networks-d195264329d0"
   ]
  },
  {
   "cell_type": "code",
   "execution_count": 1,
   "metadata": {
    "collapsed": true
   },
   "outputs": [],
   "source": [
    "import gym\n",
    "import numpy as np\n",
    "from matplotlib import pyplot as plt\n",
    "import tensorflow as tf\n",
    "from IPython.display import Math"
   ]
  },
  {
   "cell_type": "markdown",
   "metadata": {},
   "source": [
    "# Definición del problema"
   ]
  },
  {
   "cell_type": "code",
   "execution_count": 2,
   "metadata": {},
   "outputs": [
    {
     "name": "stdout",
     "output_type": "stream",
     "text": [
      "16\n",
      "4\n",
      "\n",
      "\u001b[41mS\u001b[0mFFF\n",
      "FHFH\n",
      "FFFH\n",
      "HFFG\n"
     ]
    }
   ],
   "source": [
    "env = gym.make('FrozenLake-v0')\n",
    "print(env.observation_space.n)\n",
    "print(env.action_space.n)\n",
    "env.render()"
   ]
  },
  {
   "cell_type": "markdown",
   "metadata": {},
   "source": [
    "- S: punto de partida\n",
    "- F: Frozen (Hay hielo y puedo pisar sin caerme)\n",
    "- H: Hole (Hay un agujero)\n",
    "- G: Goal (Punto de llegada)"
   ]
  },
  {
   "cell_type": "code",
   "execution_count": 3,
   "metadata": {},
   "outputs": [],
   "source": [
    "from gym.envs.registration import register\n",
    "register(\n",
    "    id='FrozenLakeNotSlippery-v1',\n",
    "    entry_point='gym.envs.toy_text:FrozenLakeEnv',\n",
    "    kwargs={'map_name' : '4x4', 'is_slippery': False},\n",
    "    max_episode_steps=100,\n",
    ")"
   ]
  },
  {
   "cell_type": "code",
   "execution_count": 22,
   "metadata": {
    "collapsed": true
   },
   "outputs": [],
   "source": [
    "# Defino un juego que no patina\n",
    "env_not_slippery = gym.make('FrozenLakeNotSlippery-v1')"
   ]
  },
  {
   "cell_type": "code",
   "execution_count": 5,
   "metadata": {
    "collapsed": true
   },
   "outputs": [],
   "source": [
    "# 0 -> Left\n",
    "# 1 -> Down\n",
    "# 2 -> Right\n",
    "# 3 -> Up\n",
    "holes = (np.array([1,1,2,3]),np.array([1,3,3,0]))\n",
    "controls = []\n",
    "controls.append('L')\n",
    "controls.append('D')\n",
    "controls.append('R')\n",
    "controls.append('U')\n",
    "controls = np.array(controls)\n",
    "\n",
    "action = {action:i for i, action in enumerate(controls)}"
   ]
  },
  {
   "cell_type": "code",
   "execution_count": 6,
   "metadata": {
    "collapsed": true
   },
   "outputs": [],
   "source": [
    "s0 = env.reset()"
   ]
  },
  {
   "cell_type": "code",
   "execution_count": 7,
   "metadata": {},
   "outputs": [
    {
     "name": "stdout",
     "output_type": "stream",
     "text": [
      "4 0.0 False {'prob': 0.3333333333333333}\n",
      "  (Left)\n",
      "SFFF\n",
      "\u001b[41mF\u001b[0mHFH\n",
      "FFFH\n",
      "HFFG\n"
     ]
    }
   ],
   "source": [
    "s1,r,d,prob = env.step(action['L'])\n",
    "print(s1,r,d,prob)\n",
    "env.render()"
   ]
  },
  {
   "cell_type": "code",
   "execution_count": 8,
   "metadata": {},
   "outputs": [
    {
     "data": {
      "text/plain": [
       "array([[-0.175937  ,  0.08152868, -0.12995632,  0.05594   ]])"
      ]
     },
     "execution_count": 8,
     "metadata": {},
     "output_type": "execute_result"
    }
   ],
   "source": [
    "i = 10\n",
    "np.random.randn(1,env.action_space.n)*(1./(i+1))"
   ]
  },
  {
   "cell_type": "markdown",
   "metadata": {},
   "source": [
    "# Table"
   ]
  },
  {
   "cell_type": "code",
   "execution_count": 9,
   "metadata": {
    "collapsed": true
   },
   "outputs": [],
   "source": [
    "def estimate_Q(env, num_episodes = 500, lr = .8, y = .95, MA_window = 200, debug = False):\n",
    "    #lr -> Learning rate\n",
    "    #y -> Discounted reward coeficient\n",
    "    #num_episodes -> Iterations\n",
    "    #MA_window -> Moving Average window for averaging rewards\n",
    "    \n",
    "    #Initialize table with all zeros\n",
    "    Q = np.zeros([env.observation_space.n,env.action_space.n])\n",
    "    # Set learning parameters\n",
    "    #create lists to contain total rewards and steps per episode\n",
    "    #jList = []\n",
    "    rList = []\n",
    "\n",
    "    acummulated_average = []\n",
    "    \n",
    "    for i in range(num_episodes):\n",
    "        started = False\n",
    "        #Reset environment and get first new observation\n",
    "        s = env.reset()\n",
    "        rAll = 0\n",
    "        d = False\n",
    "        j = 0\n",
    "        #The Q-Table learning algorithm\n",
    "        while j < 99:\n",
    "            j+=1\n",
    "            #Choose an action by greedily (with noise) picking from Q table\n",
    "            a = np.argmax(Q[s,:] + np.random.randn(1,env.action_space.n)*(1./(i+1)))\n",
    "            #Get new state and reward from environment\n",
    "            s1,r,d,_ = env.step(a)\n",
    "            #Update Q-Table with new knowledge\n",
    "            # np.max(Q[s1,:]) -> Cual de todas las acciones tiene mayor valor cuando estoy en el esstado \n",
    "            # r + y*np.max(Q[s1,:]) -> Estimated discounted reward\n",
    "            Q[s,a] = Q[s,a] + lr*(r + y*np.max(Q[s1,:]) - Q[s,a])\n",
    "\n",
    "            rAll += r\n",
    "            if debug:\n",
    "                if (Q[s,a]>0) & (not started):\n",
    "                    print('episode:',i)\n",
    "                    started=True\n",
    "                if started:\n",
    "                    print('desde:',s,', hasta:',s1,', accion:',controls[a],', Q:', Q[s,a], ', reward:',r)\n",
    "                    if d:\n",
    "                        print('Finish!:', rAll)\n",
    "            s = s1\n",
    "            if d == True:\n",
    "                break\n",
    "        #jList.append(j)\n",
    "        rList.append(rAll)\n",
    "        acummulated_average.append(float(sum(rList[-MA_window:]))/MA_window)\n",
    "    return Q, acummulated_average, rList"
   ]
  },
  {
   "cell_type": "code",
   "execution_count": 10,
   "metadata": {
    "collapsed": true
   },
   "outputs": [],
   "source": [
    "def plot_policy(Q):\n",
    "    zero_Q = np.sum(Q, axis = 1).reshape(4,4) == 0\n",
    "    policy = np.array(controls)[np.argmax(Q, axis=1)].reshape(4,4)\n",
    "    policy[zero_Q] = 'X'\n",
    "    policy[holes] = 'H'\n",
    "    print(policy)\n",
    "    \n",
    "def show_results(Q, acummulated_average):\n",
    "    plt.plot(acummulated_average)\n",
    "    plt.xlabel('Episodes')\n",
    "    plt.ylabel('Wining Average')\n",
    "    plt.show()\n",
    "    display(Math('$Q(s_i,a_j)$'))\n",
    "    print(Q)\n",
    "    display(Math('$V(s_j) = max_{a_j} Q(s_i,a_j)$'))\n",
    "    print(np.max(Q, axis=1).reshape(4,4))\n",
    "    display(Math('$a_j = \\pi(s_i) = argmax_{a_j} Q(s_i,a_j)$'))\n",
    "    plot_policy(Q)"
   ]
  },
  {
   "cell_type": "markdown",
   "metadata": {},
   "source": [
    "## Non-Slippery\n",
    "### y=1, lr =1"
   ]
  },
  {
   "cell_type": "code",
   "execution_count": 11,
   "metadata": {},
   "outputs": [
    {
     "data": {
      "image/png": "[encoded data removed]",
      "text/plain": [
       "<Figure size 432x288 with 1 Axes>"
      ]
     },
     "metadata": {},
     "output_type": "display_data"
    },
    {
     "data": {
      "text/latex": [
       "$$Q(s_i,a_j)$$"
      ],
      "text/plain": [
       "<IPython.core.display.Math object>"
      ]
     },
     "metadata": {},
     "output_type": "display_data"
    },
    {
     "name": "stdout",
     "output_type": "stream",
     "text": [
      "[[0. 0. 1. 0.]\n",
      " [0. 0. 1. 0.]\n",
      " [0. 1. 0. 0.]\n",
      " [0. 0. 0. 0.]\n",
      " [0. 0. 0. 0.]\n",
      " [0. 0. 0. 0.]\n",
      " [0. 1. 0. 0.]\n",
      " [0. 0. 0. 0.]\n",
      " [0. 0. 0. 0.]\n",
      " [0. 0. 0. 0.]\n",
      " [0. 1. 0. 0.]\n",
      " [0. 0. 0. 0.]\n",
      " [0. 0. 0. 0.]\n",
      " [0. 0. 0. 0.]\n",
      " [0. 0. 1. 0.]\n",
      " [0. 0. 0. 0.]]\n"
     ]
    },
    {
     "data": {
      "text/latex": [
       "$$V(s_j) = max_{a_j} Q(s_i,a_j)$$"
      ],
      "text/plain": [
       "<IPython.core.display.Math object>"
      ]
     },
     "metadata": {},
     "output_type": "display_data"
    },
    {
     "name": "stdout",
     "output_type": "stream",
     "text": [
      "[[1. 1. 1. 0.]\n",
      " [0. 0. 1. 0.]\n",
      " [0. 0. 1. 0.]\n",
      " [0. 0. 1. 0.]]\n"
     ]
    },
    {
     "data": {
      "text/latex": [
       "$$a_j = \\pi(s_i) = argmax_{a_j} Q(s_i,a_j)$$"
      ],
      "text/plain": [
       "<IPython.core.display.Math object>"
      ]
     },
     "metadata": {},
     "output_type": "display_data"
    },
    {
     "name": "stdout",
     "output_type": "stream",
     "text": [
      "[['R' 'R' 'D' 'X']\n",
      " ['X' 'H' 'D' 'H']\n",
      " ['X' 'X' 'D' 'H']\n",
      " ['H' 'X' 'R' 'X']]\n"
     ]
    }
   ],
   "source": [
    "num_episodes = 500\n",
    "Q_ns_table, acummulated_average_ns_table, rList = estimate_Q(env_not_slippery, \n",
    "                                                             num_episodes=num_episodes, \n",
    "                                                             y = 1, MA_window = 10, \n",
    "                                                             debug=False, \n",
    "                                                            lr = 1)\n",
    "show_results(Q_ns_table, acummulated_average_ns_table)"
   ]
  },
  {
   "cell_type": "markdown",
   "metadata": {},
   "source": [
    "### y=1, lr =0.01"
   ]
  },
  {
   "cell_type": "code",
   "execution_count": 12,
   "metadata": {},
   "outputs": [
    {
     "data": {
      "image/png": "[encoded data removed]",
      "text/plain": [
       "<Figure size 432x288 with 1 Axes>"
      ]
     },
     "metadata": {},
     "output_type": "display_data"
    },
    {
     "data": {
      "text/latex": [
       "$$Q(s_i,a_j)$$"
      ],
      "text/plain": [
       "<IPython.core.display.Math object>"
      ]
     },
     "metadata": {},
     "output_type": "display_data"
    },
    {
     "name": "stdout",
     "output_type": "stream",
     "text": [
      "[[3.96036729e-05 2.68399671e-05 1.28049349e-04 4.02572866e-05]\n",
      " [2.10334634e-05 0.00000000e+00 3.98945440e-04 6.64936250e-05]\n",
      " [1.72782028e-05 2.76353318e-03 3.98870635e-06 1.87176382e-04]\n",
      " [8.92910327e-05 0.00000000e+00 2.15104686e-06 9.16213061e-07]\n",
      " [1.39037780e-05 7.53795950e-05 0.00000000e+00 2.32604173e-05]\n",
      " [0.00000000e+00 0.00000000e+00 0.00000000e+00 0.00000000e+00]\n",
      " [0.00000000e+00 2.20088688e-02 0.00000000e+00 2.42504474e-05]\n",
      " [0.00000000e+00 0.00000000e+00 0.00000000e+00 0.00000000e+00]\n",
      " [3.54726598e-05 0.00000000e+00 4.88986390e-04 5.34340066e-06]\n",
      " [4.53522839e-06 4.32037721e-04 9.51293619e-03 0.00000000e+00]\n",
      " [1.29280896e-06 1.49217353e-01 0.00000000e+00 1.79651061e-06]\n",
      " [0.00000000e+00 0.00000000e+00 0.00000000e+00 0.00000000e+00]\n",
      " [0.00000000e+00 0.00000000e+00 0.00000000e+00 0.00000000e+00]\n",
      " [0.00000000e+00 0.00000000e+00 1.57977486e-02 7.86089800e-08]\n",
      " [0.00000000e+00 0.00000000e+00 5.10109727e-01 0.00000000e+00]\n",
      " [0.00000000e+00 0.00000000e+00 0.00000000e+00 0.00000000e+00]]\n"
     ]
    },
    {
     "data": {
      "text/latex": [
       "$$V(s_j) = max_{a_j} Q(s_i,a_j)$$"
      ],
      "text/plain": [
       "<IPython.core.display.Math object>"
      ]
     },
     "metadata": {},
     "output_type": "display_data"
    },
    {
     "name": "stdout",
     "output_type": "stream",
     "text": [
      "[[1.28049349e-04 3.98945440e-04 2.76353318e-03 8.92910327e-05]\n",
      " [7.53795950e-05 0.00000000e+00 2.20088688e-02 0.00000000e+00]\n",
      " [4.88986390e-04 9.51293619e-03 1.49217353e-01 0.00000000e+00]\n",
      " [0.00000000e+00 1.57977486e-02 5.10109727e-01 0.00000000e+00]]\n"
     ]
    },
    {
     "data": {
      "text/latex": [
       "$$a_j = \\pi(s_i) = argmax_{a_j} Q(s_i,a_j)$$"
      ],
      "text/plain": [
       "<IPython.core.display.Math object>"
      ]
     },
     "metadata": {},
     "output_type": "display_data"
    },
    {
     "name": "stdout",
     "output_type": "stream",
     "text": [
      "[['R' 'R' 'D' 'L']\n",
      " ['D' 'H' 'D' 'H']\n",
      " ['R' 'R' 'D' 'H']\n",
      " ['H' 'R' 'R' 'X']]\n"
     ]
    }
   ],
   "source": [
    "num_episodes = 500\n",
    "Q_ns_table, acummulated_average_ns_table, rList = estimate_Q(env_not_slippery, \n",
    "                                                             num_episodes=num_episodes, \n",
    "                                                             y = 1, MA_window = 10, \n",
    "                                                             debug=False, \n",
    "                                                            lr = 0.01)\n",
    "show_results(Q_ns_table, acummulated_average_ns_table)"
   ]
  },
  {
   "cell_type": "markdown",
   "metadata": {},
   "source": [
    "### y=0.9, lr = 0.8"
   ]
  },
  {
   "cell_type": "code",
   "execution_count": 13,
   "metadata": {},
   "outputs": [
    {
     "data": {
      "image/png": "[encoded data removed]",
      "text/plain": [
       "<Figure size 432x288 with 1 Axes>"
      ]
     },
     "metadata": {},
     "output_type": "display_data"
    },
    {
     "data": {
      "text/latex": [
       "$$Q(s_i,a_j)$$"
      ],
      "text/plain": [
       "<IPython.core.display.Math object>"
      ]
     },
     "metadata": {},
     "output_type": "display_data"
    },
    {
     "name": "stdout",
     "output_type": "stream",
     "text": [
      "[[0.        0.59049   0.        0.       ]\n",
      " [0.        0.        0.        0.       ]\n",
      " [0.        0.        0.        0.       ]\n",
      " [0.        0.        0.        0.       ]\n",
      " [0.        0.6561    0.        0.       ]\n",
      " [0.        0.        0.        0.       ]\n",
      " [0.        0.6456361 0.        0.       ]\n",
      " [0.        0.        0.        0.       ]\n",
      " [0.        0.        0.729     0.       ]\n",
      " [0.        0.        0.81      0.       ]\n",
      " [0.        0.9       0.        0.       ]\n",
      " [0.        0.        0.        0.       ]\n",
      " [0.        0.        0.        0.       ]\n",
      " [0.        0.        0.6912    0.       ]\n",
      " [0.        0.        1.        0.       ]\n",
      " [0.        0.        0.        0.       ]]\n"
     ]
    },
    {
     "data": {
      "text/latex": [
       "$$V(s_j) = max_{a_j} Q(s_i,a_j)$$"
      ],
      "text/plain": [
       "<IPython.core.display.Math object>"
      ]
     },
     "metadata": {},
     "output_type": "display_data"
    },
    {
     "name": "stdout",
     "output_type": "stream",
     "text": [
      "[[0.59049   0.        0.        0.       ]\n",
      " [0.6561    0.        0.6456361 0.       ]\n",
      " [0.729     0.81      0.9       0.       ]\n",
      " [0.        0.6912    1.        0.       ]]\n"
     ]
    },
    {
     "data": {
      "text/latex": [
       "$$a_j = \\pi(s_i) = argmax_{a_j} Q(s_i,a_j)$$"
      ],
      "text/plain": [
       "<IPython.core.display.Math object>"
      ]
     },
     "metadata": {},
     "output_type": "display_data"
    },
    {
     "name": "stdout",
     "output_type": "stream",
     "text": [
      "[['D' 'X' 'X' 'X']\n",
      " ['D' 'H' 'D' 'H']\n",
      " ['R' 'R' 'D' 'H']\n",
      " ['H' 'R' 'R' 'X']]\n"
     ]
    }
   ],
   "source": [
    "# Si 'y' es bajo, los valores de Q tardan mas en pasar \n",
    "# np.random.randn(1,env.action_space.n)*(1./(i+1))\n",
    "num_episodes = 500\n",
    "Q_ns_table_1, acummulated_average_ns_table_1, _ = estimate_Q(env_not_slippery, \n",
    "                                           num_episodes=num_episodes, \n",
    "                                           y = 0.9, MA_window = 10, debug=False)\n",
    "show_results(Q_ns_table_1, acummulated_average_ns_table_1)"
   ]
  },
  {
   "cell_type": "markdown",
   "metadata": {},
   "source": [
    "### y=0.25"
   ]
  },
  {
   "cell_type": "code",
   "execution_count": 14,
   "metadata": {},
   "outputs": [
    {
     "data": {
      "image/png": "[encoded data removed]",
      "text/plain": [
       "<Figure size 432x288 with 1 Axes>"
      ]
     },
     "metadata": {},
     "output_type": "display_data"
    },
    {
     "data": {
      "text/latex": [
       "$$Q(s_i,a_j)$$"
      ],
      "text/plain": [
       "<IPython.core.display.Math object>"
      ]
     },
     "metadata": {},
     "output_type": "display_data"
    },
    {
     "name": "stdout",
     "output_type": "stream",
     "text": [
      "[[1.13906250e-05 7.59375000e-05 7.59375000e-05 1.13906250e-05]\n",
      " [1.13906250e-05 0.00000000e+00 5.06250000e-04 7.59375000e-05]\n",
      " [7.59375000e-05 3.37500000e-03 7.59375000e-05 5.06250000e-04]\n",
      " [5.06250000e-04 0.00000000e+00 7.59374996e-05 7.59374957e-05]\n",
      " [7.59375000e-05 5.06250000e-04 0.00000000e+00 1.13906250e-05]\n",
      " [0.00000000e+00 0.00000000e+00 0.00000000e+00 0.00000000e+00]\n",
      " [0.00000000e+00 2.25000000e-02 0.00000000e+00 4.51448640e-04]\n",
      " [0.00000000e+00 0.00000000e+00 0.00000000e+00 0.00000000e+00]\n",
      " [5.06250000e-04 0.00000000e+00 3.37500000e-03 7.59375000e-05]\n",
      " [0.00000000e+00 2.25000000e-02 2.25000000e-02 0.00000000e+00]\n",
      " [0.00000000e+00 1.50000000e-01 0.00000000e+00 0.00000000e+00]\n",
      " [0.00000000e+00 0.00000000e+00 0.00000000e+00 0.00000000e+00]\n",
      " [0.00000000e+00 0.00000000e+00 0.00000000e+00 0.00000000e+00]\n",
      " [0.00000000e+00 0.00000000e+00 1.50000000e-01 0.00000000e+00]\n",
      " [0.00000000e+00 0.00000000e+00 1.00000000e+00 0.00000000e+00]\n",
      " [0.00000000e+00 0.00000000e+00 0.00000000e+00 0.00000000e+00]]\n"
     ]
    },
    {
     "data": {
      "text/latex": [
       "$$V(s_j) = max_{a_j} Q(s_i,a_j)$$"
      ],
      "text/plain": [
       "<IPython.core.display.Math object>"
      ]
     },
     "metadata": {},
     "output_type": "display_data"
    },
    {
     "name": "stdout",
     "output_type": "stream",
     "text": [
      "[[7.59375e-05 5.06250e-04 3.37500e-03 5.06250e-04]\n",
      " [5.06250e-04 0.00000e+00 2.25000e-02 0.00000e+00]\n",
      " [3.37500e-03 2.25000e-02 1.50000e-01 0.00000e+00]\n",
      " [0.00000e+00 1.50000e-01 1.00000e+00 0.00000e+00]]\n"
     ]
    },
    {
     "data": {
      "text/latex": [
       "$$a_j = \\pi(s_i) = argmax_{a_j} Q(s_i,a_j)$$"
      ],
      "text/plain": [
       "<IPython.core.display.Math object>"
      ]
     },
     "metadata": {},
     "output_type": "display_data"
    },
    {
     "name": "stdout",
     "output_type": "stream",
     "text": [
      "[['D' 'R' 'D' 'L']\n",
      " ['D' 'H' 'D' 'H']\n",
      " ['R' 'D' 'D' 'H']\n",
      " ['H' 'R' 'R' 'X']]\n"
     ]
    }
   ],
   "source": [
    "# Si 'y' es bajo, los valores de Q tardan mas en pasar 'np.random.randn(1,env.action_space.n)*(1./(i+1))'\n",
    "# Por lo tanto se prueban mas opciones.\n",
    "# Se confia menos en las recompenzas futuras\n",
    "\n",
    "num_episodes = 8000\n",
    "Q_ns_table_2, acummulated_average_ns_table_2, _ = estimate_Q(env_not_slippery, \n",
    "                                           num_episodes=num_episodes, \n",
    "                                           y = 0.15, MA_window = 10, debug=False)\n",
    "show_results(Q_ns_table_2, acummulated_average_ns_table_2)"
   ]
  },
  {
   "cell_type": "markdown",
   "metadata": {},
   "source": [
    "# Slippery"
   ]
  },
  {
   "cell_type": "code",
   "execution_count": 15,
   "metadata": {},
   "outputs": [
    {
     "data": {
      "image/png": "[encoded data removed]",
      "text/plain": [
       "<Figure size 432x288 with 1 Axes>"
      ]
     },
     "metadata": {},
     "output_type": "display_data"
    },
    {
     "data": {
      "text/latex": [
       "$$Q(s_i,a_j)$$"
      ],
      "text/plain": [
       "<IPython.core.display.Math object>"
      ]
     },
     "metadata": {},
     "output_type": "display_data"
    },
    {
     "name": "stdout",
     "output_type": "stream",
     "text": [
      "[[1.34640238e-01 5.61009769e-03 5.57932351e-03 6.20667222e-03]\n",
      " [1.14444358e-03 1.38509717e-03 4.85817400e-04 2.73421367e-01]\n",
      " [1.00451230e-03 1.44200058e-01 1.06187864e-03 2.34339354e-03]\n",
      " [0.00000000e+00 4.34259235e-04 6.03606019e-04 8.55007835e-02]\n",
      " [2.44883052e-01 5.96964701e-04 8.11960854e-04 3.19083142e-03]\n",
      " [0.00000000e+00 0.00000000e+00 0.00000000e+00 0.00000000e+00]\n",
      " [1.05378644e-01 6.19180689e-05 3.41039615e-04 5.43214891e-06]\n",
      " [0.00000000e+00 0.00000000e+00 0.00000000e+00 0.00000000e+00]\n",
      " [1.68670490e-03 3.40137394e-03 0.00000000e+00 1.59023166e-01]\n",
      " [0.00000000e+00 4.15462120e-01 1.03114983e-03 0.00000000e+00]\n",
      " [5.00146298e-02 2.45935658e-04 0.00000000e+00 2.45448198e-04]\n",
      " [0.00000000e+00 0.00000000e+00 0.00000000e+00 0.00000000e+00]\n",
      " [0.00000000e+00 0.00000000e+00 0.00000000e+00 0.00000000e+00]\n",
      " [2.80944640e-03 0.00000000e+00 7.82874131e-01 4.86400000e-03]\n",
      " [0.00000000e+00 0.00000000e+00 9.79148938e-01 0.00000000e+00]\n",
      " [0.00000000e+00 0.00000000e+00 0.00000000e+00 0.00000000e+00]]\n"
     ]
    },
    {
     "data": {
      "text/latex": [
       "$$V(s_j) = max_{a_j} Q(s_i,a_j)$$"
      ],
      "text/plain": [
       "<IPython.core.display.Math object>"
      ]
     },
     "metadata": {},
     "output_type": "display_data"
    },
    {
     "name": "stdout",
     "output_type": "stream",
     "text": [
      "[[0.13464024 0.27342137 0.14420006 0.08550078]\n",
      " [0.24488305 0.         0.10537864 0.        ]\n",
      " [0.15902317 0.41546212 0.05001463 0.        ]\n",
      " [0.         0.78287413 0.97914894 0.        ]]\n"
     ]
    },
    {
     "data": {
      "text/latex": [
       "$$a_j = \\pi(s_i) = argmax_{a_j} Q(s_i,a_j)$$"
      ],
      "text/plain": [
       "<IPython.core.display.Math object>"
      ]
     },
     "metadata": {},
     "output_type": "display_data"
    },
    {
     "name": "stdout",
     "output_type": "stream",
     "text": [
      "[['L' 'U' 'D' 'U']\n",
      " ['L' 'H' 'L' 'H']\n",
      " ['U' 'D' 'L' 'H']\n",
      " ['H' 'R' 'R' 'X']]\n"
     ]
    }
   ],
   "source": [
    "# Si y es bajo, los valores de Q tardan mas en pasar \n",
    "# np.random.randn(1,env.action_space.n)*(1./(i+1))\n",
    "num_episodes = 4000\n",
    "Q_s_table, acummulated_average_s_table, _ = estimate_Q(env, \n",
    "                                           num_episodes=num_episodes, \n",
    "                                           y = 0.95, MA_window = 200, debug=False)\n",
    "show_results(Q_s_table, acummulated_average_s_table)"
   ]
  },
  {
   "cell_type": "code",
   "execution_count": 16,
   "metadata": {},
   "outputs": [
    {
     "data": {
      "image/png": "[encoded data removed]",
      "text/plain": [
       "<Figure size 432x288 with 1 Axes>"
      ]
     },
     "metadata": {},
     "output_type": "display_data"
    },
    {
     "data": {
      "text/latex": [
       "$$Q(s_i,a_j)$$"
      ],
      "text/plain": [
       "<IPython.core.display.Math object>"
      ]
     },
     "metadata": {},
     "output_type": "display_data"
    },
    {
     "name": "stdout",
     "output_type": "stream",
     "text": [
      "[[1.12169361e-04 4.71430023e-03 4.81319789e-05 9.90880969e-05]\n",
      " [3.03348992e-05 2.33245566e-05 2.84082682e-05 9.89669258e-04]\n",
      " [2.22240823e-04 6.53695362e-04 2.80881614e-05 5.78543324e-05]\n",
      " [2.56679973e-06 8.62562886e-06 6.20806122e-06 2.61073041e-03]\n",
      " [1.67788469e-02 3.58429385e-05 2.96517601e-07 1.76540865e-06]\n",
      " [0.00000000e+00 0.00000000e+00 0.00000000e+00 0.00000000e+00]\n",
      " [1.32711942e-04 7.59369757e-07 3.12148991e-05 2.57693760e-07]\n",
      " [0.00000000e+00 0.00000000e+00 0.00000000e+00 0.00000000e+00]\n",
      " [7.25321383e-05 1.26250378e-05 1.98351760e-05 1.58112294e-01]\n",
      " [3.58331747e-05 4.16911756e-01 0.00000000e+00 3.55704196e-05]\n",
      " [7.52740948e-01 2.09449796e-04 1.69998829e-04 1.71907178e-05]\n",
      " [0.00000000e+00 0.00000000e+00 0.00000000e+00 0.00000000e+00]\n",
      " [0.00000000e+00 0.00000000e+00 0.00000000e+00 0.00000000e+00]\n",
      " [0.00000000e+00 1.29812534e-03 5.28792830e-01 8.35953213e-04]\n",
      " [0.00000000e+00 9.08162565e-01 0.00000000e+00 0.00000000e+00]\n",
      " [0.00000000e+00 0.00000000e+00 0.00000000e+00 0.00000000e+00]]\n"
     ]
    },
    {
     "data": {
      "text/latex": [
       "$$V(s_j) = max_{a_j} Q(s_i,a_j)$$"
      ],
      "text/plain": [
       "<IPython.core.display.Math object>"
      ]
     },
     "metadata": {},
     "output_type": "display_data"
    },
    {
     "name": "stdout",
     "output_type": "stream",
     "text": [
      "[[4.71430023e-03 9.89669258e-04 6.53695362e-04 2.61073041e-03]\n",
      " [1.67788469e-02 0.00000000e+00 1.32711942e-04 0.00000000e+00]\n",
      " [1.58112294e-01 4.16911756e-01 7.52740948e-01 0.00000000e+00]\n",
      " [0.00000000e+00 5.28792830e-01 9.08162565e-01 0.00000000e+00]]\n"
     ]
    },
    {
     "data": {
      "text/latex": [
       "$$a_j = \\pi(s_i) = argmax_{a_j} Q(s_i,a_j)$$"
      ],
      "text/plain": [
       "<IPython.core.display.Math object>"
      ]
     },
     "metadata": {},
     "output_type": "display_data"
    },
    {
     "name": "stdout",
     "output_type": "stream",
     "text": [
      "[['D' 'U' 'D' 'U']\n",
      " ['L' 'H' 'L' 'H']\n",
      " ['U' 'D' 'L' 'H']\n",
      " ['H' 'R' 'D' 'X']]\n"
     ]
    }
   ],
   "source": [
    "num_episodes = 20000\n",
    "Q_s_table_1, acummulated_average_s_table_1, _ = estimate_Q(env, \n",
    "                                           num_episodes=num_episodes, \n",
    "                                           y = 0.8, MA_window = 200, debug=False)\n",
    "show_results(Q_s_table_1, acummulated_average_s_table_1)"
   ]
  },
  {
   "cell_type": "markdown",
   "metadata": {},
   "source": [
    "# Neural Network Q aproximation"
   ]
  },
  {
   "cell_type": "markdown",
   "metadata": {},
   "source": [
    "- Entrada: ont-hot 1x16\n",
    "- Capa densa con 14x4 pasos\n",
    "- Salida: L, D, R, U"
   ]
  },
  {
   "cell_type": "markdown",
   "metadata": {},
   "source": [
    "Algoritmo:\n",
    "- Inicializo pesos de la red neuronal aleatoriamente\n",
    "- Ingreso con el estado inicial $s_0$\n",
    "- Me devuelve un listado de posibles acciones con sus pesos: $q(s_0, a)$\n",
    "- Elijo la accion mas probable a_0 (Con un grado de aleatoriedad que va disminuyendo con cada episodio) y guardo el valor $maxQ_0$ (valor de Q para esa accion)\n",
    "- Ejecuto la accion y tengo un nuevo estado $S_1$ con un posible reward $r_1$\n",
    "- Ingreso a la RNN con ese nuevo estado, obtengo $q(s_1,a)$ y me quedo con el valor mayor ($maxQ_1$)\n",
    "- Uso $maxQ_1$ para predecir el anterior $maxQ_0$: $r_1+\\gamma maxQ_1$\n",
    "- Es decir, le pido que haga un update de los pesos con entrada $s_0$ y salida $maxQ_0$ (Target, valor anotado)\n",
    "- Repito esto hasta que termina el juego (suponiendo que termina)\n",
    "- repito esto tantos episodios como sean necesarios"
   ]
  },
  {
   "cell_type": "code",
   "execution_count": 17,
   "metadata": {
    "collapsed": true
   },
   "outputs": [],
   "source": [
    "def estimate_NN_Q(env, num_episodes = 4000, y = .99, MA_window = 400, lr=0.1, random_bias=10, inv_sigma = 50):\n",
    "    tf.reset_default_graph()\n",
    "    #These lines establish the feed-forward part of the network used to choose actions\n",
    "    inputs1 = tf.placeholder(shape=[1,16],dtype=tf.float32)\n",
    "    W = tf.Variable(tf.random_uniform([16,4],0,0.01))\n",
    "    Qout = tf.matmul(inputs1,W)\n",
    "    predict = tf.argmax(Qout,1)\n",
    "\n",
    "    #Below we obtain the loss by taking the sum of squares difference between the target and prediction Q values.\n",
    "    nextQ = tf.placeholder(shape=[1,4],dtype=tf.float32)\n",
    "    loss = tf.reduce_sum(tf.square(nextQ - Qout))\n",
    "    #trainer = tf.train.GradientDescentOptimizer(learning_rate=lr)\n",
    "    trainer = tf.train.AdamOptimizer()\n",
    "    updateModel = trainer.minimize(loss)\n",
    "    init = tf.global_variables_initializer()\n",
    "    acummulated_average = []\n",
    "    #create lists to contain total rewards and steps per episode\n",
    "    jList = []\n",
    "    rList = []\n",
    "    with tf.Session() as sess:\n",
    "        sess.run(init)\n",
    "        for i in range(num_episodes):\n",
    "            #Reset environment and get first new observation\n",
    "            s = env.reset()\n",
    "            rAll = 0\n",
    "            d = False\n",
    "            j = 0\n",
    "            #The Q-Network\n",
    "            while j < 99:\n",
    "                j+=1\n",
    "                #Choose an action by greedily (with e chance of random action) from the Q-network\n",
    "                a,allQ = sess.run([predict,Qout],feed_dict={inputs1:np.identity(16)[s:s+1]})\n",
    "                #a no lo estoy usando. Solo uso allQ que es la Q para el estado s de todas las acciones posibles\n",
    "\n",
    "                a = np.argmax(allQ + np.random.randn(1,env.action_space.n)*(1./((i/inv_sigma) + random_bias)))\n",
    "                a = np.array([a])\n",
    "                #en a esta la proxima accion\n",
    "                #Get new state and reward from environment\n",
    "                s1,r,d,_ = env.step(a[0])\n",
    "                #Obtain the Q' values by feeding the new state through our network\n",
    "                Q1 = sess.run(Qout,feed_dict={inputs1:np.identity(16)[s1:s1+1]})\n",
    "                #Obtain maxQ' and set our target value for chosen action.\n",
    "                maxQ1 = np.max(Q1)\n",
    "                targetQ = allQ\n",
    "                targetQ[0,a[0]] = r + y*maxQ1\n",
    "                #Train our network using target and predicted Q values\n",
    "                _,W1 = sess.run([updateModel,W],feed_dict={inputs1:np.identity(16)[s:s+1],nextQ:targetQ})\n",
    "                rAll += r\n",
    "                s = s1\n",
    "                if d == True:\n",
    "                    break\n",
    "            jList.append(j)\n",
    "            rList.append(rAll)\n",
    "            acummulated_average.append(float(sum(rList[-MA_window:]))/MA_window)\n",
    "        Q = []\n",
    "        for i in range(16):\n",
    "            a,allQ = sess.run([predict,Qout],feed_dict={inputs1:np.identity(16)[i:i+1]})\n",
    "            Q.append(allQ[0])\n",
    "        Q = np.array(Q)\n",
    "    return Q, acummulated_average, rList"
   ]
  },
  {
   "cell_type": "markdown",
   "metadata": {},
   "source": [
    "# Slippery"
   ]
  },
  {
   "cell_type": "code",
   "execution_count": 18,
   "metadata": {},
   "outputs": [
    {
     "data": {
      "image/png": "[encoded data removed]",
      "text/plain": [
       "<Figure size 432x288 with 1 Axes>"
      ]
     },
     "metadata": {},
     "output_type": "display_data"
    },
    {
     "data": {
      "text/latex": [
       "$$Q(s_i,a_j)$$"
      ],
      "text/plain": [
       "<IPython.core.display.Math object>"
      ]
     },
     "metadata": {},
     "output_type": "display_data"
    },
    {
     "name": "stdout",
     "output_type": "stream",
     "text": [
      "[[ 4.49360311e-01  3.67683202e-01  2.86778182e-01  2.13670701e-01]\n",
      " [ 5.14550768e-02  3.52175497e-02  5.55901937e-02  3.38289440e-01]\n",
      " [ 8.90316367e-02  1.21380985e-01  9.02374238e-02  2.79363632e-01]\n",
      " [ 4.45880890e-02  2.75567714e-02  2.15739962e-02  2.52398580e-01]\n",
      " [ 4.59325790e-01  1.50882527e-02  3.12093794e-02  1.21322013e-02]\n",
      " [ 3.67537490e-03  4.53436701e-03  7.99832342e-04  6.71575032e-03]\n",
      " [ 9.39638540e-02  7.80285709e-03  5.16301766e-02  1.05507104e-02]\n",
      " [ 3.31669790e-03  4.84690652e-04  2.37805001e-03  7.87414331e-03]\n",
      " [ 1.47341564e-02  2.38266978e-02  4.90332618e-02  4.77154642e-01]\n",
      " [ 1.59636326e-02  5.37750900e-01 -3.86898569e-03  1.86241753e-02]\n",
      " [ 1.39159217e-01  4.57314283e-01 -1.44418832e-02 -5.60067873e-03]\n",
      " [ 2.99386971e-04  6.81308506e-04  1.20922923e-03  5.18490560e-03]\n",
      " [ 9.34680831e-03  7.72712228e-04  7.45136710e-03  3.17475665e-03]\n",
      " [ 8.77912901e-03  9.98160522e-03  6.90257788e-01  1.29817484e-03]\n",
      " [ 3.09579000e-02  8.44570637e-01  6.76860288e-02  6.21327758e-03]\n",
      " [ 2.87127006e-03  8.75726994e-03  5.64101804e-03  1.85965298e-04]]\n"
     ]
    },
    {
     "data": {
      "text/latex": [
       "$$V(s_j) = max_{a_j} Q(s_i,a_j)$$"
      ],
      "text/plain": [
       "<IPython.core.display.Math object>"
      ]
     },
     "metadata": {},
     "output_type": "display_data"
    },
    {
     "name": "stdout",
     "output_type": "stream",
     "text": [
      "[[0.4493603  0.33828944 0.27936363 0.25239858]\n",
      " [0.4593258  0.00671575 0.09396385 0.00787414]\n",
      " [0.47715464 0.5377509  0.45731428 0.00518491]\n",
      " [0.00934681 0.6902578  0.84457064 0.00875727]]\n"
     ]
    },
    {
     "data": {
      "text/latex": [
       "$$a_j = \\pi(s_i) = argmax_{a_j} Q(s_i,a_j)$$"
      ],
      "text/plain": [
       "<IPython.core.display.Math object>"
      ]
     },
     "metadata": {},
     "output_type": "display_data"
    },
    {
     "name": "stdout",
     "output_type": "stream",
     "text": [
      "[['L' 'U' 'U' 'U']\n",
      " ['L' 'H' 'L' 'H']\n",
      " ['U' 'D' 'D' 'H']\n",
      " ['H' 'R' 'D' 'D']]\n"
     ]
    }
   ],
   "source": [
    "# notar aca el random_bias = 50. \n",
    "Q_nn_s, acummulated_average_nn_s, _ = estimate_NN_Q(env, num_episodes = 2000, \n",
    "                                                    y = .99, \n",
    "                                                    MA_window = 200, \n",
    "                                                    lr=0.05,\n",
    "                                                   random_bias=50)\n",
    "show_results(Q_nn_s, acummulated_average_nn_s)"
   ]
  },
  {
   "cell_type": "code",
   "execution_count": 19,
   "metadata": {},
   "outputs": [
    {
     "data": {
      "image/png": "[encoded data removed]",
      "text/plain": [
       "<Figure size 432x288 with 1 Axes>"
      ]
     },
     "metadata": {},
     "output_type": "display_data"
    },
    {
     "data": {
      "text/latex": [
       "$$Q(s_i,a_j)$$"
      ],
      "text/plain": [
       "<IPython.core.display.Math object>"
      ]
     },
     "metadata": {},
     "output_type": "display_data"
    },
    {
     "name": "stdout",
     "output_type": "stream",
     "text": [
      "[[ 6.09488897e-02  1.18947187e-02  1.33225303e-02  1.76893052e-04]\n",
      " [-1.21787945e-02 -4.06632945e-03 -1.94393937e-02  5.31973653e-02]\n",
      " [ 4.94669788e-02 -8.94333352e-04  4.56568552e-03  1.03376303e-02]\n",
      " [ 4.50255116e-03  6.90220157e-03 -4.59808158e-03  2.84253452e-02]\n",
      " [ 7.71996602e-02  1.70286521e-02  7.98745733e-03 -2.75602448e-03]\n",
      " [ 1.55087706e-04  5.80441952e-03  5.69954142e-03  9.52216052e-03]\n",
      " [-7.39993155e-03  1.22212516e-02  5.95006682e-02  1.49788545e-03]\n",
      " [ 3.03472159e-03  3.13612935e-03  6.97110780e-03  7.05799786e-03]\n",
      " [ 4.33495920e-03  1.79725178e-02  1.88028980e-02  1.44420356e-01]\n",
      " [ 1.96759566e-03  2.26205900e-01  2.08010674e-02  7.60745630e-03]\n",
      " [ 2.25933522e-01  3.49213742e-02  1.37982843e-02 -8.17843073e-04]\n",
      " [ 3.87815945e-03  8.70422111e-04  1.35620229e-03  3.74375936e-03]\n",
      " [ 4.80922824e-03  9.41114128e-03  9.60088801e-03  6.55162102e-03]\n",
      " [ 2.52705277e-03  1.87413453e-03  3.08813304e-01  4.06033359e-02]\n",
      " [ 9.21406038e-03  2.53507718e-02 -5.09759528e-04  5.20618975e-01]\n",
      " [ 8.57565377e-04  6.39575953e-03  9.81641654e-03  2.42493139e-03]]\n"
     ]
    },
    {
     "data": {
      "text/latex": [
       "$$V(s_j) = max_{a_j} Q(s_i,a_j)$$"
      ],
      "text/plain": [
       "<IPython.core.display.Math object>"
      ]
     },
     "metadata": {},
     "output_type": "display_data"
    },
    {
     "name": "stdout",
     "output_type": "stream",
     "text": [
      "[[0.06094889 0.05319737 0.04946698 0.02842535]\n",
      " [0.07719966 0.00952216 0.05950067 0.007058  ]\n",
      " [0.14442036 0.2262059  0.22593352 0.00387816]\n",
      " [0.00960089 0.3088133  0.520619   0.00981642]]\n"
     ]
    },
    {
     "data": {
      "text/latex": [
       "$$a_j = \\pi(s_i) = argmax_{a_j} Q(s_i,a_j)$$"
      ],
      "text/plain": [
       "<IPython.core.display.Math object>"
      ]
     },
     "metadata": {},
     "output_type": "display_data"
    },
    {
     "name": "stdout",
     "output_type": "stream",
     "text": [
      "[['L' 'U' 'L' 'U']\n",
      " ['L' 'H' 'R' 'H']\n",
      " ['U' 'D' 'L' 'H']\n",
      " ['H' 'R' 'U' 'R']]\n"
     ]
    }
   ],
   "source": [
    "# notar aca el random_bias = 50. \n",
    "Q_nn_s, acummulated_average_nn_s, _ = estimate_NN_Q(env, num_episodes = 16000, \n",
    "                                                    y = .9, \n",
    "                                                    MA_window = 200, \n",
    "                                                    lr=0.05,\n",
    "                                                   random_bias=100,\n",
    "                                                   inv_sigma = 30)\n",
    "show_results(Q_nn_s, acummulated_average_nn_s)"
   ]
  },
  {
   "cell_type": "markdown",
   "metadata": {},
   "source": [
    "# Non-slippery"
   ]
  },
  {
   "cell_type": "code",
   "execution_count": 20,
   "metadata": {},
   "outputs": [
    {
     "data": {
      "image/png": "[encoded data removed]",
      "text/plain": [
       "<Figure size 432x288 with 1 Axes>"
      ]
     },
     "metadata": {},
     "output_type": "display_data"
    },
    {
     "data": {
      "text/latex": [
       "$$Q(s_i,a_j)$$"
      ],
      "text/plain": [
       "<IPython.core.display.Math object>"
      ]
     },
     "metadata": {},
     "output_type": "display_data"
    },
    {
     "name": "stdout",
     "output_type": "stream",
     "text": [
      "[[ 9.4781977e-01  9.5879143e-01  5.1194876e-01  9.4772887e-01]\n",
      " [ 5.4099149e-01 -4.8843557e-03  5.0118345e-01  4.1278210e-01]\n",
      " [ 4.7843874e-01  5.0712776e-01  3.1780154e-01  4.6411636e-01]\n",
      " [ 3.5095629e-01 -4.0820674e-03  2.3567589e-01  3.0378035e-01]\n",
      " [ 9.5898247e-01  9.6902424e-01  1.9284504e-03  6.4406794e-01]\n",
      " [ 9.7436439e-03  3.8555551e-03  3.8781059e-03  3.5723674e-03]\n",
      " [-3.2652233e-04  5.3525525e-01 -5.1119039e-03  4.6225986e-01]\n",
      " [ 2.7625787e-03  3.4164786e-04  7.4404511e-03  6.3052699e-03]\n",
      " [ 5.2523547e-01  3.2974411e-05  9.7826165e-01  5.0375241e-01]\n",
      " [ 3.0832911e-01 -5.7783984e-03  9.8838294e-01  1.8750770e-02]\n",
      " [ 3.5409063e-01  9.9857771e-01 -6.1203141e-06  3.2598141e-01]\n",
      " [ 8.0566462e-03  8.9959307e-03  5.7317447e-03  5.8566127e-03]\n",
      " [ 5.1738261e-03  2.6598047e-03  4.2738030e-03  5.0788294e-03]\n",
      " [-2.2711752e-03  2.3597121e-04  1.7214906e-03  4.1439496e-02]\n",
      " [ 6.2110508e-03  6.8627425e-02  1.0084835e+00  6.9289699e-02]\n",
      " [ 3.0680464e-03  1.9883192e-03  4.6966039e-03  8.5712755e-03]]\n"
     ]
    },
    {
     "data": {
      "text/latex": [
       "$$V(s_j) = max_{a_j} Q(s_i,a_j)$$"
      ],
      "text/plain": [
       "<IPython.core.display.Math object>"
      ]
     },
     "metadata": {},
     "output_type": "display_data"
    },
    {
     "name": "stdout",
     "output_type": "stream",
     "text": [
      "[[0.95879143 0.5409915  0.50712776 0.3509563 ]\n",
      " [0.96902424 0.00974364 0.53525525 0.00744045]\n",
      " [0.97826165 0.98838294 0.9985777  0.00899593]\n",
      " [0.00517383 0.0414395  1.0084835  0.00857128]]\n"
     ]
    },
    {
     "data": {
      "text/latex": [
       "$$a_j = \\pi(s_i) = argmax_{a_j} Q(s_i,a_j)$$"
      ],
      "text/plain": [
       "<IPython.core.display.Math object>"
      ]
     },
     "metadata": {},
     "output_type": "display_data"
    },
    {
     "name": "stdout",
     "output_type": "stream",
     "text": [
      "[['D' 'L' 'D' 'L']\n",
      " ['D' 'H' 'D' 'H']\n",
      " ['R' 'R' 'D' 'H']\n",
      " ['H' 'U' 'R' 'U']]\n"
     ]
    }
   ],
   "source": [
    "Q_nn_ns, acummulated_average_nn_ns, _ = estimate_NN_Q(env_not_slippery, \n",
    "                                                      num_episodes = 1000, \n",
    "                                                      y = .99,\n",
    "                                                      MA_window = 200, \n",
    "                                                      lr=0.1)\n",
    "show_results(Q_nn_ns, acummulated_average_nn_ns)"
   ]
  },
  {
   "cell_type": "code",
   "execution_count": 21,
   "metadata": {},
   "outputs": [
    {
     "data": {
      "image/png": "[encoded data removed]",
      "text/plain": [
       "<Figure size 432x288 with 1 Axes>"
      ]
     },
     "metadata": {},
     "output_type": "display_data"
    },
    {
     "data": {
      "text/latex": [
       "$$Q(s_i,a_j)$$"
      ],
      "text/plain": [
       "<IPython.core.display.Math object>"
      ]
     },
     "metadata": {},
     "output_type": "display_data"
    },
    {
     "name": "stdout",
     "output_type": "stream",
     "text": [
      "[[-2.1839957e-03 -1.0511522e-02  3.1355426e-02 -2.9717498e-03]\n",
      " [ 2.2485179e-03  2.5587890e-03  6.2715158e-02  8.0810711e-03]\n",
      " [-2.2393500e-03  1.2542911e-01  3.4344944e-03 -1.9877279e-02]\n",
      " [ 5.1414575e-03  5.3152572e-03 -1.5972823e-02 -1.3428799e-02]\n",
      " [-5.0057494e-03  1.7787976e-02  2.5828823e-03 -9.8226964e-03]\n",
      " [ 1.6792560e-03  2.1495617e-03  5.1192748e-03  3.9739618e-03]\n",
      " [-1.3291491e-02  2.5085843e-01 -1.4783179e-02 -5.6746094e-03]\n",
      " [ 3.1336665e-03  7.6454412e-03  4.6090325e-03  6.4753196e-03]\n",
      " [-1.7611822e-02 -6.0905260e-03 -1.9347006e-03 -1.6833064e-03]\n",
      " [-6.0514295e-03 -9.2518413e-03 -3.1852364e-03  1.2089184e-02]\n",
      " [-5.3163180e-03  5.0171709e-01 -4.7461549e-03 -8.8013122e-03]\n",
      " [ 9.4380137e-04  2.7566324e-03  6.9711050e-03  6.8876515e-03]\n",
      " [ 5.5345879e-03  6.1376989e-03  2.2421323e-03  1.7327940e-03]\n",
      " [-2.7062872e-03 -7.6009273e-03 -2.0498489e-03  1.5087678e-02]\n",
      " [ 1.1960904e-03  3.2367758e-02  1.0034343e+00  8.5951324e-04]\n",
      " [ 3.4843576e-03  3.9849542e-03  5.4719020e-03  7.0492481e-03]]\n"
     ]
    },
    {
     "data": {
      "text/latex": [
       "$$V(s_j) = max_{a_j} Q(s_i,a_j)$$"
      ],
      "text/plain": [
       "<IPython.core.display.Math object>"
      ]
     },
     "metadata": {},
     "output_type": "display_data"
    },
    {
     "name": "stdout",
     "output_type": "stream",
     "text": [
      "[[ 0.03135543  0.06271516  0.12542911  0.00531526]\n",
      " [ 0.01778798  0.00511927  0.25085843  0.00764544]\n",
      " [-0.00168331  0.01208918  0.5017171   0.00697111]\n",
      " [ 0.0061377   0.01508768  1.0034343   0.00704925]]\n"
     ]
    },
    {
     "data": {
      "text/latex": [
       "$$a_j = \\pi(s_i) = argmax_{a_j} Q(s_i,a_j)$$"
      ],
      "text/plain": [
       "<IPython.core.display.Math object>"
      ]
     },
     "metadata": {},
     "output_type": "display_data"
    },
    {
     "name": "stdout",
     "output_type": "stream",
     "text": [
      "[['R' 'R' 'D' 'D']\n",
      " ['D' 'H' 'D' 'H']\n",
      " ['U' 'U' 'D' 'H']\n",
      " ['H' 'U' 'R' 'U']]\n"
     ]
    }
   ],
   "source": [
    "Q_nn_ns, acummulated_average_nn_ns, _ = estimate_NN_Q(env_not_slippery, \n",
    "                                                      num_episodes = 1000, \n",
    "                                                      y = .5,\n",
    "                                                      MA_window = 200, \n",
    "                                                      lr=0.1,\n",
    "                                                     random_bias=200)\n",
    "show_results(Q_nn_ns, acummulated_average_nn_ns)"
   ]
  },
  {
   "cell_type": "code",
   "execution_count": null,
   "metadata": {
    "collapsed": true
   },
   "outputs": [],
   "source": []
  }
 ],
 "metadata": {
  "kernelspec": {
   "display_name": "Python 3",
   "language": "python",
   "name": "python3"
  },
  "language_info": {
   "codemirror_mode": {
    "name": "ipython",
    "version": 3
   },
   "file_extension": ".py",
   "mimetype": "text/x-python",
   "name": "python",
   "nbconvert_exporter": "python",
   "pygments_lexer": "ipython3",
   "version": "3.6.6"
  },
  "toc": {
   "nav_menu": {},
   "number_sections": true,
   "sideBar": true,
   "skip_h1_title": true,
   "toc_cell": false,
   "toc_position": {},
   "toc_section_display": "block",
   "toc_window_display": false
  }
 },
 "nbformat": 4,
 "nbformat_minor": 2
}
