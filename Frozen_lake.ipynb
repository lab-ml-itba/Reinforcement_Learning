{
 "cells": [
  {
   "cell_type": "markdown",
   "metadata": {},
   "source": [
    "Referencias:\n",
    "\n",
    "https://medium.com/emergent-future/simple-reinforcement-learning-with-tensorflow-part-0-q-learning-with-tables-and-neural-networks-d195264329d0"
   ]
  },
  {
   "cell_type": "code",
   "execution_count": 300,
   "metadata": {},
   "outputs": [],
   "source": [
    "import gym\n",
    "import numpy as np\n",
    "from matplotlib import pyplot as plt\n",
    "import tensorflow as tf"
   ]
  },
  {
   "cell_type": "code",
   "execution_count": 2,
   "metadata": {},
   "outputs": [
    {
     "name": "stdout",
     "output_type": "stream",
     "text": [
      "16\n",
      "4\n",
      "\n",
      "\u001b[41mS\u001b[0mFFF\n",
      "FHFH\n",
      "FFFH\n",
      "HFFG\n"
     ]
    }
   ],
   "source": [
    "env = gym.make('FrozenLake-v0')\n",
    "print(env.observation_space.n)\n",
    "print(env.action_space.n)\n",
    "env.render()"
   ]
  },
  {
   "cell_type": "code",
   "execution_count": 3,
   "metadata": {},
   "outputs": [],
   "source": [
    "from gym.envs.registration import register\n",
    "register(\n",
    "    id='FrozenLakeNotSlippery-v1',\n",
    "    entry_point='gym.envs.toy_text:FrozenLakeEnv',\n",
    "    kwargs={'map_name' : '4x4', 'is_slippery': False},\n",
    "    max_episode_steps=100,\n",
    ")"
   ]
  },
  {
   "cell_type": "code",
   "execution_count": 4,
   "metadata": {
    "collapsed": true
   },
   "outputs": [],
   "source": [
    "env_not_slippery = gym.make('FrozenLakeNotSlippery-v1')"
   ]
  },
  {
   "cell_type": "code",
   "execution_count": 217,
   "metadata": {},
   "outputs": [],
   "source": [
    "# 0 -> Left\n",
    "# 1 -> Down\n",
    "# 2 -> Right\n",
    "# 3 -> Up\n",
    "holes = (np.array([1,1,2,3]),np.array([1,3,3,0]))\n",
    "controls = []\n",
    "controls.append('L')\n",
    "controls.append('D')\n",
    "controls.append('R')\n",
    "controls.append('U')\n",
    "controls = np.array(controls)\n",
    "\n",
    "action = {action:i for i, action in enumerate(controls)}"
   ]
  },
  {
   "cell_type": "code",
   "execution_count": 200,
   "metadata": {},
   "outputs": [],
   "source": [
    "s0 = env.reset()"
   ]
  },
  {
   "cell_type": "code",
   "execution_count": 201,
   "metadata": {},
   "outputs": [
    {
     "name": "stdout",
     "output_type": "stream",
     "text": [
      "0 0.0 False {'prob': 0.3333333333333333}\n",
      "  (Left)\n",
      "\u001b[41mS\u001b[0mFFF\n",
      "FHFH\n",
      "FFFH\n",
      "HFFG\n"
     ]
    }
   ],
   "source": [
    "s1,r,d,prob = env.step(action['L'])\n",
    "print(s1,r,d,prob)\n",
    "env.render()"
   ]
  },
  {
   "cell_type": "code",
   "execution_count": 202,
   "metadata": {},
   "outputs": [
    {
     "data": {
      "text/plain": [
       "array([[ 0.17122942, -0.02642782, -0.02783768,  0.08312514]])"
      ]
     },
     "execution_count": 202,
     "metadata": {},
     "output_type": "execute_result"
    }
   ],
   "source": [
    "i = 10\n",
    "np.random.randn(1,env.action_space.n)*(1./(i+1))"
   ]
  },
  {
   "cell_type": "markdown",
   "metadata": {},
   "source": [
    "# Table"
   ]
  },
  {
   "cell_type": "code",
   "execution_count": 253,
   "metadata": {},
   "outputs": [],
   "source": [
    "def estimate_Q(env, num_episodes = 500, lr = .8, y = .95, MA_window = 200, debug = False):\n",
    "    #lr -> Learning rate\n",
    "    #y -> Discounted reward coeficient\n",
    "    #num_episodes -> Iterations\n",
    "    #MA_window -> Moving Average window for averaging rewards\n",
    "    \n",
    "    #Initialize table with all zeros\n",
    "    Q = np.zeros([env.observation_space.n,env.action_space.n])\n",
    "    # Set learning parameters\n",
    "    #create lists to contain total rewards and steps per episode\n",
    "    #jList = []\n",
    "    rList = []\n",
    "\n",
    "    acummulated_average = []\n",
    "    \n",
    "    for i in range(num_episodes):\n",
    "        started = False\n",
    "        #Reset environment and get first new observation\n",
    "        s = env.reset()\n",
    "        rAll = 0\n",
    "        d = False\n",
    "        j = 0\n",
    "        #The Q-Table learning algorithm\n",
    "        while j < 99:\n",
    "            j+=1\n",
    "            #Choose an action by greedily (with noise) picking from Q table\n",
    "            a = np.argmax(Q[s,:] + np.random.randn(1,env.action_space.n)*(1./(i+1)))\n",
    "            #Get new state and reward from environment\n",
    "            s1,r,d,_ = env.step(a)\n",
    "            #Update Q-Table with new knowledge\n",
    "            # np.max(Q[s1,:]) -> Cual de todas las acciones tiene mayor valor cuando estoy en el esstado \n",
    "            # r + y*np.max(Q[s1,:]) -> Estimated discounted reward\n",
    "            Q[s,a] = Q[s,a] + lr*(r + y*np.max(Q[s1,:]) - Q[s,a])\n",
    "\n",
    "            rAll += r\n",
    "            if debug:\n",
    "                if (Q[s,a]>0) & (not started):\n",
    "                    print('episode:',i)\n",
    "                    started=True\n",
    "                if started:\n",
    "                    print('desde:',s,', hasta:',s1,', accion:',controls[a],', Q:', Q[s,a], ', reward:',r)\n",
    "                    if d:\n",
    "                        print('Finish!:', rAll)\n",
    "            s = s1\n",
    "            if d == True:\n",
    "                break\n",
    "        #jList.append(j)\n",
    "        rList.append(rAll)\n",
    "        acummulated_average.append(float(sum(rList[-MA_window:]))/MA_window)\n",
    "    return Q, acummulated_average, rList"
   ]
  },
  {
   "cell_type": "code",
   "execution_count": 263,
   "metadata": {},
   "outputs": [
    {
     "data": {
      "image/png": "[encoded data removed]",
      "text/plain": [
       "<matplotlib.figure.Figure at 0x110da7470>"
      ]
     },
     "metadata": {},
     "output_type": "display_data"
    }
   ],
   "source": [
    "num_episodes = 500\n",
    "Q, acummulated_average, rList = estimate_Q(env_not_slippery, num_episodes=num_episodes, y = 1, MA_window = 10, debug=False)\n",
    "plt.plot(acummulated_average)\n",
    "plt.show()"
   ]
  },
  {
   "cell_type": "code",
   "execution_count": 264,
   "metadata": {},
   "outputs": [
    {
     "data": {
      "text/plain": [
       "array([[ 0.,  0.,  1.,  0.],\n",
       "       [ 0.,  0.,  1.,  0.],\n",
       "       [ 0.,  1.,  0.,  0.],\n",
       "       [ 0.,  0.,  0.,  0.],\n",
       "       [ 0.,  0.,  0.,  0.],\n",
       "       [ 0.,  0.,  0.,  0.],\n",
       "       [ 0.,  1.,  0.,  0.],\n",
       "       [ 0.,  0.,  0.,  0.],\n",
       "       [ 0.,  0.,  0.,  0.],\n",
       "       [ 0.,  0.,  0.,  0.],\n",
       "       [ 0.,  1.,  0.,  0.],\n",
       "       [ 0.,  0.,  0.,  0.],\n",
       "       [ 0.,  0.,  0.,  0.],\n",
       "       [ 0.,  0.,  0.,  0.],\n",
       "       [ 0.,  0.,  1.,  0.],\n",
       "       [ 0.,  0.,  0.,  0.]])"
      ]
     },
     "execution_count": 264,
     "metadata": {},
     "output_type": "execute_result"
    }
   ],
   "source": [
    "Q"
   ]
  },
  {
   "cell_type": "code",
   "execution_count": 265,
   "metadata": {},
   "outputs": [
    {
     "data": {
      "text/plain": [
       "array([[ 1.,  1.,  1.,  0.],\n",
       "       [ 0.,  0.,  1.,  0.],\n",
       "       [ 0.,  0.,  1.,  0.],\n",
       "       [ 0.,  0.,  1.,  0.]])"
      ]
     },
     "execution_count": 265,
     "metadata": {},
     "output_type": "execute_result"
    }
   ],
   "source": [
    "np.max(Q, axis=1).reshape(4,4)"
   ]
  },
  {
   "cell_type": "code",
   "execution_count": 266,
   "metadata": {
    "collapsed": true
   },
   "outputs": [],
   "source": [
    "def plot_policy(Q):\n",
    "    zero_Q = np.sum(Q, axis = 1).reshape(4,4) == 0\n",
    "    policy = np.array(controls)[np.argmax(Q, axis=1)].reshape(4,4)\n",
    "    policy[zero_Q] = 'X'\n",
    "    policy[holes] = 'H'\n",
    "    print(policy)"
   ]
  },
  {
   "cell_type": "code",
   "execution_count": 267,
   "metadata": {},
   "outputs": [
    {
     "name": "stdout",
     "output_type": "stream",
     "text": [
      "[['R' 'R' 'D' 'X']\n",
      " ['X' 'H' 'D' 'H']\n",
      " ['X' 'X' 'D' 'H']\n",
      " ['H' 'X' 'R' 'X']]\n"
     ]
    }
   ],
   "source": [
    "plot_policy(Q)"
   ]
  },
  {
   "cell_type": "code",
   "execution_count": 296,
   "metadata": {},
   "outputs": [
    {
     "data": {
      "image/png": "[encoded data removed]",
      "text/plain": [
       "<matplotlib.figure.Figure at 0x1107baf60>"
      ]
     },
     "metadata": {},
     "output_type": "display_data"
    },
    {
     "name": "stdout",
     "output_type": "stream",
     "text": [
      "[[  2.44140625e-04   9.76562500e-04   9.76562500e-04   2.44140625e-04]\n",
      " [  2.44140625e-04   0.00000000e+00   3.90625000e-03   9.76562500e-04]\n",
      " [  7.79829248e-04   1.56250000e-02   6.25000000e-04   3.89333660e-03]\n",
      " [  3.75000000e-03   0.00000000e+00   0.00000000e+00   0.00000000e+00]\n",
      " [  9.76562500e-04   3.90625000e-03   0.00000000e+00   2.44140625e-04]\n",
      " [  0.00000000e+00   0.00000000e+00   0.00000000e+00   0.00000000e+00]\n",
      " [  0.00000000e+00   6.25000000e-02   0.00000000e+00   0.00000000e+00]\n",
      " [  0.00000000e+00   0.00000000e+00   0.00000000e+00   0.00000000e+00]\n",
      " [  3.12732544e-03   0.00000000e+00   1.56250000e-02   4.68839594e-05]\n",
      " [  9.37679188e-06   0.00000000e+00   6.25000000e-02   0.00000000e+00]\n",
      " [  0.00000000e+00   2.50000000e-01   0.00000000e+00   0.00000000e+00]\n",
      " [  0.00000000e+00   0.00000000e+00   0.00000000e+00   0.00000000e+00]\n",
      " [  0.00000000e+00   0.00000000e+00   0.00000000e+00   0.00000000e+00]\n",
      " [  0.00000000e+00   0.00000000e+00   1.99680000e-01   0.00000000e+00]\n",
      " [  0.00000000e+00   0.00000000e+00   1.00000000e+00   0.00000000e+00]\n",
      " [  0.00000000e+00   0.00000000e+00   0.00000000e+00   0.00000000e+00]]\n",
      "[['D' 'R' 'D' 'L']\n",
      " ['D' 'H' 'D' 'H']\n",
      " ['R' 'R' 'D' 'H']\n",
      " ['H' 'R' 'R' 'X']]\n"
     ]
    }
   ],
   "source": [
    "# Si y es bajo, los valores de Q tardan mas en pasar \n",
    "# np.random.randn(1,env.action_space.n)*(1./(i+1))\n",
    "num_episodes = 10000\n",
    "Q, acummulated_average, rList = estimate_Q(env_not_slippery, \n",
    "                                           num_episodes=num_episodes, \n",
    "                                           y = 0.25, MA_window = 10, debug=False)\n",
    "plt.plot(acummulated_average)\n",
    "plt.show()\n",
    "print(Q)\n",
    "plot_policy(Q)"
   ]
  },
  {
   "cell_type": "markdown",
   "metadata": {},
   "source": [
    "# Es slippery"
   ]
  },
  {
   "cell_type": "code",
   "execution_count": 299,
   "metadata": {},
   "outputs": [
    {
     "data": {
      "image/png": "[encoded data removed]",
      "text/plain": [
       "<matplotlib.figure.Figure at 0x110894f60>"
      ]
     },
     "metadata": {},
     "output_type": "display_data"
    },
    {
     "name": "stdout",
     "output_type": "stream",
     "text": [
      "[[  4.20180125e-01   1.24142763e-02   5.73474338e-03   1.04925200e-02]\n",
      " [  1.20778543e-03   3.69673292e-04   8.84987715e-04   2.26875922e-01]\n",
      " [  1.15538514e-03   9.77953637e-03   6.83998372e-03   1.19879194e-01]\n",
      " [  3.67165141e-04   3.92912891e-04   1.24322195e-03   9.52194641e-02]\n",
      " [  5.71577209e-01   6.83532599e-03   1.13909756e-03   0.00000000e+00]\n",
      " [  0.00000000e+00   0.00000000e+00   0.00000000e+00   0.00000000e+00]\n",
      " [  5.78522490e-03   1.83072235e-04   5.21498308e-04   1.68073950e-04]\n",
      " [  0.00000000e+00   0.00000000e+00   0.00000000e+00   0.00000000e+00]\n",
      " [  1.77064349e-03   5.53594328e-04   5.39552947e-03   6.73883947e-01]\n",
      " [  0.00000000e+00   5.45997154e-01   5.39708903e-04   0.00000000e+00]\n",
      " [  1.08047080e-01   9.56911159e-06   4.19092415e-04   0.00000000e+00]\n",
      " [  0.00000000e+00   0.00000000e+00   0.00000000e+00   0.00000000e+00]\n",
      " [  0.00000000e+00   0.00000000e+00   0.00000000e+00   0.00000000e+00]\n",
      " [  0.00000000e+00   0.00000000e+00   8.78003459e-01   0.00000000e+00]\n",
      " [  0.00000000e+00   0.00000000e+00   4.11323153e-01   0.00000000e+00]\n",
      " [  0.00000000e+00   0.00000000e+00   0.00000000e+00   0.00000000e+00]]\n",
      "[['L' 'U' 'U' 'U']\n",
      " ['L' 'H' 'L' 'H']\n",
      " ['U' 'D' 'L' 'H']\n",
      " ['H' 'R' 'R' 'X']]\n"
     ]
    }
   ],
   "source": [
    "# Si y es bajo, los valores de Q tardan mas en pasar \n",
    "# np.random.randn(1,env.action_space.n)*(1./(i+1))\n",
    "num_episodes = 4000\n",
    "Q, acummulated_average, rList = estimate_Q(env, \n",
    "                                           num_episodes=num_episodes, \n",
    "                                           y = 0.95, MA_window = 200, debug=False)\n",
    "plt.plot(acummulated_average)\n",
    "plt.show()\n",
    "print(Q)\n",
    "plot_policy(Q)"
   ]
  },
  {
   "cell_type": "markdown",
   "metadata": {},
   "source": [
    "# Neural Network Q aproximation"
   ]
  },
  {
   "cell_type": "code",
   "execution_count": 350,
   "metadata": {
    "collapsed": true
   },
   "outputs": [],
   "source": [
    "tf.reset_default_graph()\n",
    "#These lines establish the feed-forward part of the network used to choose actions\n",
    "inputs1 = tf.placeholder(shape=[1,16],dtype=tf.float32)\n",
    "W = tf.Variable(tf.random_uniform([16,4],0,0.01))\n",
    "Qout = tf.matmul(inputs1,W)\n",
    "predict = tf.argmax(Qout,1)\n",
    "\n",
    "#Below we obtain the loss by taking the sum of squares difference between the target and prediction Q values.\n",
    "nextQ = tf.placeholder(shape=[1,4],dtype=tf.float32)\n",
    "loss = tf.reduce_sum(tf.square(nextQ - Qout))\n",
    "trainer = tf.train.GradientDescentOptimizer(learning_rate=0.1)\n",
    "updateModel = trainer.minimize(loss)"
   ]
  },
  {
   "cell_type": "code",
   "execution_count": 351,
   "metadata": {},
   "outputs": [],
   "source": [
    "def estimate_NN_Q(env, num_episodes = 4000, y = .99, e = 0.1, MA_window = 400):\n",
    "    init = tf.global_variables_initializer()\n",
    "    acummulated_average = []\n",
    "    #create lists to contain total rewards and steps per episode\n",
    "    jList = []\n",
    "    rList = []\n",
    "    with tf.Session() as sess:\n",
    "        sess.run(init)\n",
    "        for i in range(num_episodes):\n",
    "            #Reset environment and get first new observation\n",
    "            s = env.reset()\n",
    "            rAll = 0\n",
    "            d = False\n",
    "            j = 0\n",
    "            #The Q-Network\n",
    "            while j < 99:\n",
    "                j+=1\n",
    "                #Choose an action by greedily (with e chance of random action) from the Q-network\n",
    "                a,allQ = sess.run([predict,Qout],feed_dict={inputs1:np.identity(16)[s:s+1]})\n",
    "                if np.random.rand(1) < e:\n",
    "                    # This is a random action. e is getting smaller as i incresses\n",
    "                    a[0] = env.action_space.sample()\n",
    "                #Get new state and reward from environment\n",
    "                s1,r,d,_ = env.step(a[0])\n",
    "                #Obtain the Q' values by feeding the new state through our network\n",
    "                Q1 = sess.run(Qout,feed_dict={inputs1:np.identity(16)[s1:s1+1]})\n",
    "                #Obtain maxQ' and set our target value for chosen action.\n",
    "                maxQ1 = np.max(Q1)\n",
    "                targetQ = allQ\n",
    "                targetQ[0,a[0]] = r + y*maxQ1\n",
    "                #Train our network using target and predicted Q values\n",
    "                _,W1 = sess.run([updateModel,W],feed_dict={inputs1:np.identity(16)[s:s+1],nextQ:targetQ})\n",
    "                rAll += r\n",
    "                s = s1\n",
    "                if d == True:\n",
    "                    #Reduce chance of random action as we train the model.\n",
    "                    e = 1./((i/50) + 10)\n",
    "                    break\n",
    "            jList.append(j)\n",
    "            rList.append(rAll)\n",
    "            acummulated_average.append(float(sum(rList[-MA_window:]))/MA_window)\n",
    "        Q = []\n",
    "        print('Saving Q Values')\n",
    "        for i in range(16):\n",
    "            a,allQ = sess.run([predict,Qout],feed_dict={inputs1:np.identity(16)[i:i+1]})\n",
    "            Q.append(allQ[0])\n",
    "        Q = np.array(Q)\n",
    "    return Q, acummulated_average, rList"
   ]
  },
  {
   "cell_type": "code",
   "execution_count": null,
   "metadata": {},
   "outputs": [],
   "source": [
    "Q, acummulated_average, rList = estimate_NN_Q(env, num_episodes = 4000, y = .99, e = 0.1, MA_window = 400)"
   ]
  },
  {
   "cell_type": "code",
   "execution_count": 355,
   "metadata": {},
   "outputs": [
    {
     "data": {
      "image/png": "[encoded data removed]",
      "text/plain": [
       "<matplotlib.figure.Figure at 0x11b301438>"
      ]
     },
     "metadata": {},
     "output_type": "display_data"
    },
    {
     "name": "stdout",
     "output_type": "stream",
     "text": [
      "[[  2.38791350e-02   2.56707482e-02   5.04942909e-02   1.19592417e-02]\n",
      " [  5.44303376e-03   3.35847251e-02   1.51898991e-02   1.67236999e-02]\n",
      " [  5.51699009e-03   3.76365893e-02   1.29026966e-02   1.41407608e-03]\n",
      " [  1.67605896e-02   6.79881033e-03   9.27526224e-03   2.85365456e-03]\n",
      " [  1.14610292e-01   2.92551666e-02   4.33254912e-02   1.45660406e-02]\n",
      " [  2.98505300e-03   6.33653486e-03   2.75806291e-03   1.99532020e-03]\n",
      " [  7.34990230e-03   3.08723263e-02   5.91842830e-03   4.79647284e-03]\n",
      " [  9.65316966e-03   4.16261423e-03   6.38568262e-03   8.67375731e-03]\n",
      " [  3.03837657e-02   2.69420408e-02   8.70842300e-03   2.41370976e-01]\n",
      " [  5.57098053e-02   3.70975852e-01   3.73443356e-03   6.52996870e-03]\n",
      " [  5.20015927e-03   2.53932318e-03   4.42925632e-01   1.21626779e-02]\n",
      " [  5.43686142e-03   8.57358426e-03   8.22283607e-03   9.80276242e-03]\n",
      " [  2.80841114e-03   9.24255792e-03   4.93916869e-03   5.94115257e-03]\n",
      " [  3.21790809e-03   4.85825527e-04   4.70825434e-01   3.04156495e-03]\n",
      " [  6.03557825e-02   7.87357867e-01   2.18321197e-03   5.42589184e-03]\n",
      " [  8.15983955e-03   4.48199734e-03   8.31113104e-03   1.04735605e-03]]\n",
      "[['R' 'D' 'D' 'L']\n",
      " ['L' 'H' 'D' 'H']\n",
      " ['U' 'D' 'R' 'H']\n",
      " ['H' 'R' 'D' 'R']]\n"
     ]
    }
   ],
   "source": [
    "plt.plot(acummulated_average)\n",
    "plt.show()\n",
    "print(Q)\n",
    "plot_policy(Q)"
   ]
  },
  {
   "cell_type": "code",
   "execution_count": null,
   "metadata": {
    "collapsed": true
   },
   "outputs": [],
   "source": [
    "Q, acummulated_average, rList = estimate_NN_Q(env_not_slippery, num_episodes = 4000, y = .99, e = 0.1, MA_window = 400)"
   ]
  },
  {
   "cell_type": "code",
   "execution_count": null,
   "metadata": {
    "collapsed": true
   },
   "outputs": [],
   "source": [
    "[['L' 'U' 'U' 'U']\n",
    " ['L' 'H' 'L' 'H']\n",
    " ['U' 'D' 'L' 'H']\n",
    " ['H' 'R' 'R' 'X']]"
   ]
  }
 ],
 "metadata": {
  "kernelspec": {
   "display_name": "Python 3",
   "language": "python",
   "name": "python3"
  },
  "language_info": {
   "codemirror_mode": {
    "name": "ipython",
    "version": 3
   },
   "file_extension": ".py",
   "mimetype": "text/x-python",
   "name": "python",
   "nbconvert_exporter": "python",
   "pygments_lexer": "ipython3",
   "version": "3.6.2"
  },
  "toc": {
   "nav_menu": {},
   "number_sections": true,
   "sideBar": true,
   "skip_h1_title": true,
   "toc_cell": false,
   "toc_position": {},
   "toc_section_display": "block",
   "toc_window_display": false
  }
 },
 "nbformat": 4,
 "nbformat_minor": 2
}
